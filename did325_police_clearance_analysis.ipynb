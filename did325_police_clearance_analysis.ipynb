{
 "cells": [
  {
   "cell_type": "markdown",
   "metadata": {},
   "source": [
    "# q.4 Do additional officers improve a county's clearance rate?\n",
    "\n",
    "\n",
    "My contribution to a group final project for DiDa 325, analyzing whether additional police officers improve crime clearance rates in NY counties. Uses econometric methods to test the relationship between officer staffing levels and crime solving effectiveness."
   ]
  },
  {
   "cell_type": "markdown",
   "metadata": {},
   "source": [
    "\n",
    "## Discussion\n",
    "\n",
    "To investigate whether increasing police officer staffing improves crime clearance rates at the county level in New York State, the fundamental policy question that needs to be answered is whether additional law enforcement resources translate into more effective crime solving. To answer this, I employed OLS regression with log-transformed cleared crimes as the dependent variable to avoid mechanical correlation issues inherent in using clearance rates directly. To further prevent correlation issues, officers-per-crime ratios were used rather than raw employment figures to address multicollinearity and better capture resource allocation intensity(essentially representing coverage by police force). The square of this varriable was also added to capture any diminishing returns with officer employment and clearance rates.\n",
    "\n",
    "The final model chosen for estimation was:\n",
    "\n",
    " log(total_cleared) = β₀ + β₁(new_total_crime) + β₂(officers_per_crime) + β₃(officers_per_crime²) + controls\n",
    "\n",
    "Basic analysis of officer per crime coefficient reveals a negative relationship, suggesting a 1% increase in officer to crime ratio leads to an 8.5% decrease in total clearance. More rigorous analysis revealed a surprising U-shaped relationship between officer coverage and clearance effectiveness. While the quadratic term wasn't individually significant (p=0.051), joint significance F-tests confirmed a non-linear relationship between officer coverage and clearance rates. Residual analysis and mean residual also suggest that the model shouldn't suffer from bias (the error mean independence assumption should be achieved). Before conducting hypothesis testing, a Breusch-Pagan test was conducted to check for heteroskedasticity, which revealed a heteroskedasticity problem. Robust SEs were computed to fix this.\n",
    "\n",
    "\n",
    "However, to see and test the effectiveness of ADDITIONAL officers, analysis and testing of the marginal effect of additional officer coverage on clearance rates is required. This marginal effect can be represented by:\n",
    "\n",
    " ∂log(total_cleared)/∂(officers_per_crime) = β₂ + 2β₃(officers_per_crime)\n",
    "\n",
    "To test whether marginal increases in police force helped with clearance rates, the marginal effect of the average county officer coverage (and its SE) is calculated, and the following hypothesis test is drawn:\n",
    "\n",
    " H₀: β₂ + 2β₃(mean) ≤ 0\n",
    " H₁: β₂ + 2β₃(mean) > 0\n",
    "\n",
    "Using a one-sided t-test reveals that, while the marginal effect is statistically significant, it's significant in the opposite direction. Meaning the average county in New York gets lower clearance rates when additional officers are hired. However, the u-shape and existence of a critical point all suggest that a benefit DOES exist after an officer-to-crime ratio of over 1.16. The most realistic explanation is that an opportunity cost exists before 1.16 officers per crime ratio is reached. While the model can't speak on what might the opportunity cost be, some realistic options include training/ability, administrative burden for smaller counties, or resource constraints."
   ]
  },
  {
   "cell_type": "markdown",
   "metadata": {},
   "source": [
    "# code"
   ]
  },
  {
   "cell_type": "code",
   "execution_count": null,
   "metadata": {},
   "outputs": [],
   "source": [
    "import pandas as pd\n",
    "import numpy as np\n",
    "import matplotlib.pyplot as plt\n",
    "import seaborn as sns\n",
    "import statsmodels.api as sm\n",
    "import statsmodels.api as sm\n",
    "from sklearn.model_selection import train_test_split\n",
    "from sklearn.ensemble import RandomForestClassifier\n",
    "from sklearn.ensemble import RandomForestRegressor\n",
    "from sklearn.metrics import accuracy_score\n",
    "from sklearn.metrics import mean_squared_error, r2_score\n",
    "from sklearn.tree import export_graphviz\n",
    "from IPython.display import Image\n",
    "from sklearn.metrics import mean_absolute_error"
   ]
  },
  {
   "cell_type": "code",
   "execution_count": 132,
   "metadata": {},
   "outputs": [],
   "source": [
    "#dataset given for project\n",
    "cc = pd.read_csv(\"https://media.githubusercontent.com/media/themarshallproject/crime-clearance-rate/refs/heads/main/crime_clearance_rate.csv\")\n",
    "\n",
    "'''\n",
    "The following code is necessary for feature engineering\n",
    "'''\n",
    "\n",
    "\n",
    "fips = {\n",
    "  \"Albany\": 36001,\n",
    "  \"Allegany\": 36003,\n",
    "  \"Broome\": 36007,\n",
    "  \"Cattaraugus\": 36009,\n",
    "  \"Cayuga\": 36011,\n",
    "  \"Chautauqua\": 36013,\n",
    "  \"Chemung\": 36015,\n",
    "  \"Chenango\": 36017,\n",
    "  \"Clinton\": 36019,\n",
    "  \"Columbia\": 36021,\n",
    "  \"Cortland\": 36023,\n",
    "  \"Delaware\": 36025,\n",
    "  \"Dutchess\": 36027,\n",
    "  \"Erie\": 36029,\n",
    "  \"Essex\": 36031,\n",
    "  \"Franklin\": 36033,\n",
    "  \"Fulton\": 36035,\n",
    "  \"Genesee\": 36037,\n",
    "  \"Greene\": 36039,\n",
    "  \"Hamilton\": 36041,\n",
    "  \"Herkimer\": 36043,\n",
    "  \"Jefferson\": 36045,\n",
    "  \"Lewis\": 36049,\n",
    "  \"Livingston\": 36051,\n",
    "  \"Madison\": 36053,\n",
    "  \"Monroe\": 36055,\n",
    "  \"Montgomery\": 36057,\n",
    "  \"Nassau\": 36059,\n",
    "  \"New York City\": 36061,\n",
    "  \"Niagara\": 36063,\n",
    "  \"Oneida\": 36065,\n",
    "  \"Onondaga\": 36067,\n",
    "  \"Ontario\": 36069,\n",
    "  \"Orange\": 36071,\n",
    "  \"Orleans\": 36073,\n",
    "  \"Oswego\": 36075,\n",
    "  \"Otsego\": 36077,\n",
    "  \"Putnam\": 36079,\n",
    "  \"Rensselaer\": 36083,\n",
    "  \"Rockland\": 36087,\n",
    "  \"Saratoga\": 36091,\n",
    "  \"Schenectady\": 36093,\n",
    "  \"Schoharie\": 36095,\n",
    "  \"Schuyler\": 36097,\n",
    "  \"Seneca\": 36099,\n",
    "  \"St Lawrence\": 36089,\n",
    "  \"Steuben\": 36101,\n",
    "  \"Suffolk\": 36103,\n",
    "  \"Sullivan\": 36105,\n",
    "  \"Tioga\": 36107,\n",
    "  \"Tompkins\": 36109,\n",
    "  \"Ulster\": 36111,\n",
    "  \"Warren\": 36113,\n",
    "  \"Washington\": 36115,\n",
    "  \"Wayne\": 36117,\n",
    "  \"Westchester\": 36119,\n",
    "  \"Wyoming\": 36121,\n",
    "  \"Yates\": 36123\n",
    "}\n",
    "\n",
    "nyc_borough_fips = [\n",
    "    36005,  # Bronx\n",
    "    36047,  # Brooklyn\n",
    "    36061,  # Manhattan\n",
    "    36081,  # Queens\n",
    "    36085   # Staten Island\n",
    "]\n",
    "\n",
    "# Function to convert borough FIPS to the single NYC FIPS\n",
    "def consolidate_nyc_fips(fips):\n",
    "    if fips in nyc_borough_fips:\n",
    "        return 36061\n",
    "    else:\n",
    "        return fips"
   ]
  },
  {
   "cell_type": "code",
   "execution_count": 126,
   "metadata": {},
   "outputs": [
    {
     "name": "stderr",
     "output_type": "stream",
     "text": [
      "<ipython-input-126-a404a17aba89>:3: SettingWithCopyWarning: \n",
      "A value is trying to be set on a copy of a slice from a DataFrame.\n",
      "Try using .loc[row_indexer,col_indexer] = value instead\n",
      "\n",
      "See the caveats in the documentation: https://pandas.pydata.org/pandas-docs/stable/user_guide/indexing.html#returning-a-view-versus-a-copy\n",
      "  state['fips_state_county_code'] = state['fips_state_county_code'].apply(consolidate_nyc_fips)\n"
     ]
    },
    {
     "data": {
      "text/html": [
       "<div>\n",
       "<style scoped>\n",
       "    .dataframe tbody tr th:only-of-type {\n",
       "        vertical-align: middle;\n",
       "    }\n",
       "\n",
       "    .dataframe tbody tr th {\n",
       "        vertical-align: top;\n",
       "    }\n",
       "\n",
       "    .dataframe thead th {\n",
       "        text-align: right;\n",
       "    }\n",
       "</style>\n",
       "<table border=\"1\" class=\"dataframe\">\n",
       "  <thead>\n",
       "    <tr style=\"text-align: right;\">\n",
       "      <th></th>\n",
       "      <th>fips</th>\n",
       "      <th>Year</th>\n",
       "      <th>new_total_crime</th>\n",
       "      <th>cleared_total_crime</th>\n",
       "      <th>new_violent_crime</th>\n",
       "      <th>log_cleared</th>\n",
       "      <th>log_crime</th>\n",
       "      <th>County</th>\n",
       "      <th>officers_employed</th>\n",
       "      <th>officers_per_crime</th>\n",
       "      <th>officers_per_crime_sq</th>\n",
       "      <th>violent_crime_ratio</th>\n",
       "      <th>cases_per_officer</th>\n",
       "    </tr>\n",
       "  </thead>\n",
       "  <tbody>\n",
       "    <tr>\n",
       "      <th>0</th>\n",
       "      <td>36001.0</td>\n",
       "      <td>2007</td>\n",
       "      <td>10616.0</td>\n",
       "      <td>2878.0</td>\n",
       "      <td>1464.0</td>\n",
       "      <td>7.964851</td>\n",
       "      <td>7.288928</td>\n",
       "      <td>Albany</td>\n",
       "      <td>1305</td>\n",
       "      <td>0.122928</td>\n",
       "      <td>0.015111</td>\n",
       "      <td>0.137905</td>\n",
       "      <td>8.134866</td>\n",
       "    </tr>\n",
       "    <tr>\n",
       "      <th>1</th>\n",
       "      <td>36001.0</td>\n",
       "      <td>2008</td>\n",
       "      <td>10607.0</td>\n",
       "      <td>2117.0</td>\n",
       "      <td>1324.0</td>\n",
       "      <td>7.657755</td>\n",
       "      <td>7.188413</td>\n",
       "      <td>Albany</td>\n",
       "      <td>1177</td>\n",
       "      <td>0.110964</td>\n",
       "      <td>0.012313</td>\n",
       "      <td>0.124823</td>\n",
       "      <td>9.011895</td>\n",
       "    </tr>\n",
       "    <tr>\n",
       "      <th>2</th>\n",
       "      <td>36001.0</td>\n",
       "      <td>2009</td>\n",
       "      <td>10432.0</td>\n",
       "      <td>2584.0</td>\n",
       "      <td>1288.0</td>\n",
       "      <td>7.857094</td>\n",
       "      <td>7.160846</td>\n",
       "      <td>Albany</td>\n",
       "      <td>1312</td>\n",
       "      <td>0.125767</td>\n",
       "      <td>0.015817</td>\n",
       "      <td>0.123466</td>\n",
       "      <td>7.951220</td>\n",
       "    </tr>\n",
       "    <tr>\n",
       "      <th>3</th>\n",
       "      <td>36001.0</td>\n",
       "      <td>2010</td>\n",
       "      <td>11053.0</td>\n",
       "      <td>2411.0</td>\n",
       "      <td>1185.0</td>\n",
       "      <td>7.787797</td>\n",
       "      <td>7.077498</td>\n",
       "      <td>Albany</td>\n",
       "      <td>1329</td>\n",
       "      <td>0.120239</td>\n",
       "      <td>0.014457</td>\n",
       "      <td>0.107211</td>\n",
       "      <td>8.316780</td>\n",
       "    </tr>\n",
       "    <tr>\n",
       "      <th>4</th>\n",
       "      <td>36001.0</td>\n",
       "      <td>2011</td>\n",
       "      <td>10641.0</td>\n",
       "      <td>1878.0</td>\n",
       "      <td>1166.0</td>\n",
       "      <td>7.537963</td>\n",
       "      <td>7.061334</td>\n",
       "      <td>Albany</td>\n",
       "      <td>1280</td>\n",
       "      <td>0.120289</td>\n",
       "      <td>0.014470</td>\n",
       "      <td>0.109576</td>\n",
       "      <td>8.313281</td>\n",
       "    </tr>\n",
       "    <tr>\n",
       "      <th>...</th>\n",
       "      <td>...</td>\n",
       "      <td>...</td>\n",
       "      <td>...</td>\n",
       "      <td>...</td>\n",
       "      <td>...</td>\n",
       "      <td>...</td>\n",
       "      <td>...</td>\n",
       "      <td>...</td>\n",
       "      <td>...</td>\n",
       "      <td>...</td>\n",
       "      <td>...</td>\n",
       "      <td>...</td>\n",
       "      <td>...</td>\n",
       "    </tr>\n",
       "    <tr>\n",
       "      <th>806</th>\n",
       "      <td>36123.0</td>\n",
       "      <td>2016</td>\n",
       "      <td>320.0</td>\n",
       "      <td>67.0</td>\n",
       "      <td>17.0</td>\n",
       "      <td>4.204693</td>\n",
       "      <td>2.833213</td>\n",
       "      <td>Yates</td>\n",
       "      <td>69</td>\n",
       "      <td>0.215625</td>\n",
       "      <td>0.046494</td>\n",
       "      <td>0.053125</td>\n",
       "      <td>4.637681</td>\n",
       "    </tr>\n",
       "    <tr>\n",
       "      <th>807</th>\n",
       "      <td>36123.0</td>\n",
       "      <td>2017</td>\n",
       "      <td>258.0</td>\n",
       "      <td>56.0</td>\n",
       "      <td>26.0</td>\n",
       "      <td>4.025352</td>\n",
       "      <td>3.258097</td>\n",
       "      <td>Yates</td>\n",
       "      <td>55</td>\n",
       "      <td>0.213178</td>\n",
       "      <td>0.045445</td>\n",
       "      <td>0.100775</td>\n",
       "      <td>4.690909</td>\n",
       "    </tr>\n",
       "    <tr>\n",
       "      <th>808</th>\n",
       "      <td>36123.0</td>\n",
       "      <td>2018</td>\n",
       "      <td>247.0</td>\n",
       "      <td>70.0</td>\n",
       "      <td>17.0</td>\n",
       "      <td>4.248495</td>\n",
       "      <td>2.833213</td>\n",
       "      <td>Yates</td>\n",
       "      <td>53</td>\n",
       "      <td>0.214575</td>\n",
       "      <td>0.046042</td>\n",
       "      <td>0.068826</td>\n",
       "      <td>4.660377</td>\n",
       "    </tr>\n",
       "    <tr>\n",
       "      <th>809</th>\n",
       "      <td>36123.0</td>\n",
       "      <td>2019</td>\n",
       "      <td>187.0</td>\n",
       "      <td>66.0</td>\n",
       "      <td>23.0</td>\n",
       "      <td>4.189655</td>\n",
       "      <td>3.135494</td>\n",
       "      <td>Yates</td>\n",
       "      <td>52</td>\n",
       "      <td>0.278075</td>\n",
       "      <td>0.077326</td>\n",
       "      <td>0.122995</td>\n",
       "      <td>3.596154</td>\n",
       "    </tr>\n",
       "    <tr>\n",
       "      <th>810</th>\n",
       "      <td>36123.0</td>\n",
       "      <td>2020</td>\n",
       "      <td>221.0</td>\n",
       "      <td>53.0</td>\n",
       "      <td>16.0</td>\n",
       "      <td>3.970292</td>\n",
       "      <td>2.772589</td>\n",
       "      <td>Yates</td>\n",
       "      <td>58</td>\n",
       "      <td>0.262443</td>\n",
       "      <td>0.068877</td>\n",
       "      <td>0.072398</td>\n",
       "      <td>3.810345</td>\n",
       "    </tr>\n",
       "  </tbody>\n",
       "</table>\n",
       "<p>811 rows × 13 columns</p>\n",
       "</div>"
      ],
      "text/plain": [
       "        fips  Year  new_total_crime  cleared_total_crime  new_violent_crime  \\\n",
       "0    36001.0  2007          10616.0               2878.0             1464.0   \n",
       "1    36001.0  2008          10607.0               2117.0             1324.0   \n",
       "2    36001.0  2009          10432.0               2584.0             1288.0   \n",
       "3    36001.0  2010          11053.0               2411.0             1185.0   \n",
       "4    36001.0  2011          10641.0               1878.0             1166.0   \n",
       "..       ...   ...              ...                  ...                ...   \n",
       "806  36123.0  2016            320.0                 67.0               17.0   \n",
       "807  36123.0  2017            258.0                 56.0               26.0   \n",
       "808  36123.0  2018            247.0                 70.0               17.0   \n",
       "809  36123.0  2019            187.0                 66.0               23.0   \n",
       "810  36123.0  2020            221.0                 53.0               16.0   \n",
       "\n",
       "     log_cleared  log_crime  County  officers_employed  officers_per_crime  \\\n",
       "0       7.964851   7.288928  Albany               1305            0.122928   \n",
       "1       7.657755   7.188413  Albany               1177            0.110964   \n",
       "2       7.857094   7.160846  Albany               1312            0.125767   \n",
       "3       7.787797   7.077498  Albany               1329            0.120239   \n",
       "4       7.537963   7.061334  Albany               1280            0.120289   \n",
       "..           ...        ...     ...                ...                 ...   \n",
       "806     4.204693   2.833213   Yates                 69            0.215625   \n",
       "807     4.025352   3.258097   Yates                 55            0.213178   \n",
       "808     4.248495   2.833213   Yates                 53            0.214575   \n",
       "809     4.189655   3.135494   Yates                 52            0.278075   \n",
       "810     3.970292   2.772589   Yates                 58            0.262443   \n",
       "\n",
       "     officers_per_crime_sq  violent_crime_ratio  cases_per_officer  \n",
       "0                 0.015111             0.137905           8.134866  \n",
       "1                 0.012313             0.124823           9.011895  \n",
       "2                 0.015817             0.123466           7.951220  \n",
       "3                 0.014457             0.107211           8.316780  \n",
       "4                 0.014470             0.109576           8.313281  \n",
       "..                     ...                  ...                ...  \n",
       "806               0.046494             0.053125           4.637681  \n",
       "807               0.045445             0.100775           4.690909  \n",
       "808               0.046042             0.068826           4.660377  \n",
       "809               0.077326             0.122995           3.596154  \n",
       "810               0.068877             0.072398           3.810345  \n",
       "\n",
       "[811 rows x 13 columns]"
      ]
     },
     "execution_count": 126,
     "metadata": {},
     "output_type": "execute_result"
    }
   ],
   "source": [
    "\n",
    "\n",
    "#fix clearance data\n",
    "state = cc[cc['state'] == 'new york']\n",
    "state['fips_state_county_code'] = state['fips_state_county_code'].apply(consolidate_nyc_fips)\n",
    "\n",
    "clearance_data = state[['ori','fips_state_county_code', 'year', 'new_total_crime', 'cleared_total_crime', 'new_violent_crime' ]]\n",
    "\n",
    "clearance_data = clearance_data.groupby(['fips_state_county_code', 'year']).agg({\n",
    "    'new_total_crime': 'sum',\n",
    "    'cleared_total_crime': 'sum',\n",
    "    'new_violent_crime' : 'sum'\n",
    "}).reset_index()\n",
    "\n",
    "clearance_data = clearance_data[clearance_data['year'] >= 2007]\n",
    "clearance_data['log_cleared'] = np.log(clearance_data['cleared_total_crime']) #calculate clearance RATE with log instead of ratio to avoid correlation and bias issues\n",
    "clearance_data['log_crime'] = np.log(clearance_data['new_violent_crime']) #calculate clearance RATE with log instead of ratio to avoid correlation and bias issues\n",
    "\n",
    "#load police data\n",
    "path = 'https://raw.githubusercontent.com/ngutin1/dida/refs/heads/main/Law_Enforcement_Personnel_by_Agency___Beginning_2007_20250505.csv'\n",
    "ny = pd.read_csv(path) #https://data.ny.gov/Public-Safety/Law-Enforcement-Personnel-by-Agency-Beginning-2007/khn9-hhpq/about_data\n",
    "police_data = ny[['County', 'Year', 'Grand Total']]\n",
    "\n",
    "police_data = police_data.groupby(['County', 'Year']).agg({\n",
    "    'Grand Total': 'sum'\n",
    "}).reset_index()\n",
    "\n",
    "police_data['fips'] = police_data['County'].map(fips)\n",
    "\n",
    "\n",
    "#merge two dfs to create training data\n",
    "clearance_data = clearance_data.rename(columns = {'fips_state_county_code':'fips', 'year':'Year'})\n",
    "police_data = police_data.rename(columns = {'Grand Total':'officers_employed'})\n",
    "\n",
    "training = pd.merge(\n",
    "    clearance_data,\n",
    "    police_data,\n",
    "    on=['fips', 'Year'],\n",
    "    how='inner'\n",
    ")\n",
    "\n",
    "\n",
    "#feature creation\n",
    "training['officers_per_crime'] = training['officers_employed'] / (training['new_total_crime'] ) #officer coverage varriable\n",
    "\n",
    "#training['log_officers_per_crime_sq'] = np.log(training['officers_per_crime'])\n",
    "training['officers_per_crime_sq'] = training['officers_per_crime']**2 #squared coverage var to check for diminishing returns on police coverage\n",
    "\n",
    "training['violent_crime_ratio'] = training['new_violent_crime'] / training['new_total_crime'] # % of crimes that are violent in county \n",
    "\n",
    "training['cases_per_officer'] = training['new_total_crime'] / training['officers_employed'] #cases to officers ratio\n",
    "\n",
    "training\n"
   ]
  },
  {
   "cell_type": "code",
   "execution_count": 127,
   "metadata": {},
   "outputs": [
    {
     "name": "stdout",
     "output_type": "stream",
     "text": [
      "Correlation Matrix:\n",
      "                       log_crime  officers_per_crime  officers_per_crime_sq  \\\n",
      "log_crime               1.000000           -0.155672              -0.156570   \n",
      "officers_per_crime     -0.155672            1.000000               0.895057   \n",
      "officers_per_crime_sq  -0.156570            0.895057               1.000000   \n",
      "violent_crime_ratio     0.501401            0.352109               0.304906   \n",
      "cases_per_officer       0.098387           -0.678924              -0.414702   \n",
      "\n",
      "                       violent_crime_ratio  cases_per_officer  \n",
      "log_crime                         0.501401           0.098387  \n",
      "officers_per_crime                0.352109          -0.678924  \n",
      "officers_per_crime_sq             0.304906          -0.414702  \n",
      "violent_crime_ratio               1.000000          -0.234136  \n",
      "cases_per_officer                -0.234136           1.000000  \n"
     ]
    }
   ],
   "source": [
    "#check correlation matrix for multi colin issues \n",
    "\n",
    "print(\"Correlation Matrix:\")\n",
    "corr_centered = training[['log_cleared', 'officers_per_crime', 'officers_per_crime_sq', 'violent_crime_ratio', 'cases_per_officer']].corr()\n",
    "print(corr_centered)"
   ]
  },
  {
   "cell_type": "markdown",
   "metadata": {},
   "source": [
    "### linear regression\n",
    "- used existing inferene skills from econometrics with the following new commands:\n",
    "\n",
    "https://medium.com/@roshmitadey/a-quick-guide-to-statistical-modeling-in-python-usn-df367e80097a"
   ]
  },
  {
   "cell_type": "code",
   "execution_count": 112,
   "metadata": {},
   "outputs": [
    {
     "name": "stdout",
     "output_type": "stream",
     "text": [
      "                            OLS Regression Results                            \n",
      "==============================================================================\n",
      "Dep. Variable:            log_cleared   R-squared:                       0.273\n",
      "Model:                            OLS   Adj. R-squared:                  0.269\n",
      "Method:                 Least Squares   F-statistic:                     75.50\n",
      "Date:                Wed, 14 May 2025   Prob (F-statistic):           2.22e-54\n",
      "Time:                        18:13:17   Log-Likelihood:                -1268.1\n",
      "No. Observations:                 811   AIC:                             2546.\n",
      "Df Residuals:                     806   BIC:                             2570.\n",
      "Df Model:                           4                                         \n",
      "Covariance Type:            nonrobust                                         \n",
      "=============================================================================================\n",
      "                                coef    std err          t      P>|t|      [0.025      0.975]\n",
      "---------------------------------------------------------------------------------------------\n",
      "const                         2.8801      0.288      9.988      0.000       2.314       3.446\n",
      "new_total_crime            1.936e-05   1.92e-06     10.072      0.000    1.56e-05    2.31e-05\n",
      "log_officers_per_crime_sq    -1.6732      0.179     -9.358      0.000      -2.024      -1.322\n",
      "violent_crime_ratio           5.8799      1.142      5.150      0.000       3.639       8.121\n",
      "cases_per_officer            -0.0888      0.019     -4.734      0.000      -0.126      -0.052\n",
      "==============================================================================\n",
      "Omnibus:                       56.853   Durbin-Watson:                   0.253\n",
      "Prob(Omnibus):                  0.000   Jarque-Bera (JB):              224.932\n",
      "Skew:                          -0.162   Prob(JB):                     1.43e-49\n",
      "Kurtosis:                       5.560   Cond. No.                     7.25e+05\n",
      "==============================================================================\n",
      "\n",
      "Notes:\n",
      "[1] Standard Errors assume that the covariance matrix of the errors is correctly specified.\n",
      "[2] The condition number is large, 7.25e+05. This might indicate that there are\n",
      "strong multicollinearity or other numerical problems.\n"
     ]
    },
    {
     "name": "stderr",
     "output_type": "stream",
     "text": [
      "/Library/Python/anaconda3/lib/python3.8/site-packages/statsmodels/tsa/tsatools.py:142: FutureWarning: In a future version of pandas all arguments of concat except for the argument 'objs' will be keyword-only\n",
      "  x = pd.concat(x[::order], 1)\n"
     ]
    }
   ],
   "source": [
    "X = training[['new_total_crime','officers_per_crime', 'officers_per_crime_sq', 'violent_crime_ratio', 'cases_per_officer']]\n",
    "y = training['log_cleared']\n",
    "\n",
    "\n",
    "X = sm.tools.tools.add_constant(X)\n",
    "\n",
    "model = sm.OLS(y, X).fit()\n",
    "\n",
    "print(model.summary())"
   ]
  },
  {
   "cell_type": "markdown",
   "metadata": {},
   "source": [
    "### inference and testing "
   ]
  },
  {
   "cell_type": "code",
   "execution_count": 78,
   "metadata": {},
   "outputs": [
    {
     "name": "stdout",
     "output_type": "stream",
     "text": [
      "F-statistic: [[46.09881387]], p-value: 1.1101327540211953e-19\n"
     ]
    }
   ],
   "source": [
    "'''\n",
    "since officer coverage squared is insignficant on its own, test if model is signfificant with with the both coverage and coverage^2 to see if we can\n",
    "diminishing\n",
    "'''\n",
    "\n",
    "hypothesis = '(officers_per_crime = 0), (officers_per_crime_sq = 0)'\n",
    "f_test = model.f_test(hypothesis)\n",
    "\n",
    "print(f\"F-statistic: {f_test.fvalue}, p-value: {f_test.pvalue}\")"
   ]
  },
  {
   "cell_type": "code",
   "execution_count": 108,
   "metadata": {},
   "outputs": [
    {
     "name": "stdout",
     "output_type": "stream",
     "text": [
      "4.934056085917358e-63\n"
     ]
    }
   ],
   "source": [
    "# Test for heteroskedasticity\n",
    "from statsmodels.stats.diagnostic import het_breuschpagan\n",
    "bp_test = het_breuschpagan(model.resid, X)\n",
    "print(bp_test[1])\n"
   ]
  },
  {
   "cell_type": "code",
   "execution_count": 89,
   "metadata": {},
   "outputs": [
    {
     "name": "stdout",
     "output_type": "stream",
     "text": [
      "                            OLS Regression Results                            \n",
      "==============================================================================\n",
      "Dep. Variable:            log_cleared   R-squared:                       0.276\n",
      "Model:                            OLS   Adj. R-squared:                  0.272\n",
      "Method:                 Least Squares   F-statistic:                     61.50\n",
      "Date:                Wed, 14 May 2025   Prob (F-statistic):           2.50e-54\n",
      "Time:                        16:14:50   Log-Likelihood:                -1266.0\n",
      "No. Observations:                 811   AIC:                             2544.\n",
      "Df Residuals:                     805   BIC:                             2572.\n",
      "Df Model:                           5                                         \n",
      "Covariance Type:            nonrobust                                         \n",
      "=========================================================================================\n",
      "                            coef    std err          t      P>|t|      [0.025      0.975]\n",
      "-----------------------------------------------------------------------------------------\n",
      "const                     6.8427      0.307     22.281      0.000       6.240       7.445\n",
      "new_total_crime        1.905e-05   1.94e-06      9.814      0.000    1.52e-05    2.29e-05\n",
      "officers_per_crime       -8.5735      1.536     -5.583      0.000     -11.588      -5.559\n",
      "officers_per_crime_sq     3.6908      1.890      1.953      0.051      -0.019       7.401\n",
      "violent_crime_ratio       6.3425      1.154      5.498      0.000       4.078       8.607\n",
      "cases_per_officer        -0.0239      0.015     -1.635      0.103      -0.053       0.005\n",
      "==============================================================================\n",
      "Omnibus:                       57.673   Durbin-Watson:                   0.249\n",
      "Prob(Omnibus):                  0.000   Jarque-Bera (JB):              229.728\n",
      "Skew:                          -0.168   Prob(JB):                     1.30e-50\n",
      "Kurtosis:                       5.586   Cond. No.                     1.51e+06\n",
      "==============================================================================\n",
      "\n",
      "Notes:\n",
      "[1] Standard Errors assume that the covariance matrix of the errors is correctly specified.\n",
      "[2] The condition number is large, 1.51e+06. This might indicate that there are\n",
      "strong multicollinearity or other numerical problems.\n"
     ]
    }
   ],
   "source": [
    "#since heteroskedasticity exists we need to fix SE\n",
    "#https://stackoverflow.com/questions/30553838/getting-statsmodels-to-use-heteroskedasticity-corrected-standard-errors-in-coeff\n",
    "\n",
    "model_robust = sm.OLS(y, X).fit(cov_type='HC3')\n",
    "final_model = model_robust\n",
    "\n",
    "final_model = model\n",
    "print(final_model.summary())"
   ]
  },
  {
   "cell_type": "code",
   "execution_count": 103,
   "metadata": {},
   "outputs": [
    {
     "data": {
      "image/png": "[encoded data removed]",
      "text/plain": [
       "<Figure size 720x432 with 1 Axes>"
      ]
     },
     "metadata": {
      "needs_background": "light"
     },
     "output_type": "display_data"
    }
   ],
   "source": [
    "#residual analysis for bias check\n",
    "\n",
    "residuals = final_model.resid\n",
    "predictions = final_model.predict()\n",
    "\n",
    "plt.figure(figsize=(10, 6))\n",
    "plt.scatter(predictions, residuals, alpha=0.5)\n",
    "plt.axhline(y=0, color='r', linestyle='--', linewidth=2)\n",
    "plt.xlabel('Predicted log(cleared)')\n",
    "plt.ylabel('Residuals')\n",
    "plt.title('Residual Plot: Checking for Systematic Bias')\n",
    "plt.show()"
   ]
  },
  {
   "cell_type": "code",
   "execution_count": 107,
   "metadata": {},
   "outputs": [
    {
     "name": "stdout",
     "output_type": "stream",
     "text": [
      "2.704941353791912e-13\n"
     ]
    }
   ],
   "source": [
    "mean_residual = residuals.mean()\n",
    "print(mean_residual)"
   ]
  },
  {
   "cell_type": "markdown",
   "metadata": {},
   "source": [
    "### marginal effect & hypothesis testing"
   ]
  },
  {
   "cell_type": "code",
   "execution_count": 101,
   "metadata": {},
   "outputs": [
    {
     "data": {
      "text/plain": [
       "1.1614609075847664"
      ]
     },
     "execution_count": 101,
     "metadata": {},
     "output_type": "execute_result"
    }
   ],
   "source": [
    "\n",
    "critical_point = -model.params['officers_per_crime'] / (2 * model.params['officers_per_crime_sq'])\n",
    "critical_point"
   ]
  },
  {
   "cell_type": "code",
   "execution_count": 123,
   "metadata": {},
   "outputs": [
    {
     "data": {
      "image/png": "[encoded data removed]",
      "text/plain": [
       "<Figure size 1008x432 with 1 Axes>"
      ]
     },
     "metadata": {
      "needs_background": "light"
     },
     "output_type": "display_data"
    }
   ],
   "source": [
    "#marginal effect of officers and critical point:\n",
    "officer_range = np.linspace(0, 2, 100)\n",
    "y = (-8.574 * officer_range + 3.691 * officer_range**2)\n",
    "critical_point = -model.params['officers_per_crime'] / (2 * model.params['officers_per_crime_sq'])\n",
    "\n",
    "# Find marginal effects\n",
    "marginal_effect = -8.574 + (2 * 3.691 * officer_range)\n",
    "\n",
    "plt.figure(figsize=(14, 6))\n",
    "\n",
    "# visualize the relationship between \n",
    "plt.subplot(1, 2, 1)\n",
    "plt.plot(officer_range, y * 100, 'b-', linewidth=2)\n",
    "plt.axhline(y=0, color='r', linestyle='--', alpha=0.7)\n",
    "plt.axvline(x=critical_point, color='g', linestyle='--', alpha=0.7, label=f'crtical point: {critical_point}')\n",
    "plt.xlabel('Officers per Crime')\n",
    "plt.ylabel('% Change in Cleared Crimes')\n",
    "plt.title('Total Effect on Cleared Crimes')\n",
    "plt.legend()\n",
    "plt.grid(True, alpha=0.3)\n",
    "\n",
    "plt.show()"
   ]
  },
  {
   "cell_type": "code",
   "execution_count": 92,
   "metadata": {},
   "outputs": [
    {
     "name": "stdout",
     "output_type": "stream",
     "text": [
      "-4.518751330647463\n"
     ]
    }
   ],
   "source": [
    "#hypothesis test\n",
    "\n",
    "mean = training['officers_per_crime'].mean()\n",
    "#robust SE\n",
    "se_officers = 1.536\n",
    "se_officers_sq = 1.890\n",
    "cov = model.cov_params().loc['officers_per_crime', 'officers_per_crime_sq']\n",
    "\n",
    "\n",
    "marginal_effect = -8.574 + (2 * 3.691 * mean)\n",
    "\n",
    "#https://stats.stackexchange.com/questions/55795/how-to-calculate-the-standard-error-of-the-marginal-effects-in-interactions-rob\n",
    "var_marginal_no_cov = se_officers**2 + 4 * (mean)**2 * se_officers_sq**2\n",
    "se_marginal_no_cov = np.sqrt(var_marginal_no_cov)\n",
    "\n",
    "t = marginal_effect/se_marginal_no_cov\n",
    "print(t)"
   ]
  }
 ],
 "metadata": {
  "interpreter": {
   "hash": "cac03b58fac2b1fdfb9b8cd742f5958443ccb47a49c632dcd347261c712a63c4"
  },
  "kernelspec": {
   "display_name": "Python 3.8.8 64-bit ('base': conda)",
   "language": "python",
   "name": "python3"
  },
  "language_info": {
   "codemirror_mode": {
    "name": "ipython",
    "version": 3
   },
   "file_extension": ".py",
   "mimetype": "text/x-python",
   "name": "python",
   "nbconvert_exporter": "python",
   "pygments_lexer": "ipython3",
   "version": "3.8.8"
  },
  "orig_nbformat": 4
 },
 "nbformat": 4,
 "nbformat_minor": 2
}
