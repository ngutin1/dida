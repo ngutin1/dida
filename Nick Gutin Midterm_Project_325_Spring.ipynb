{
  "cells": [
    {
      "cell_type": "markdown",
      "metadata": {
        "id": "-LuKgWnQjAph"
      },
      "source": [
        "##Instructions\n",
        "\n",
        "\n",
        "\n",
        "\n",
        "1. For every data visualization you make, add a proper description on the axes. Even if the variable name isn't terrible, explicitly add them. This is worth 1 point per axis per problem!\n",
        "2. For each question asking you to make a calculation, you must add a comment or a markdown cell explicitly answering the question. **Python output alone is insufficient.**"
      ]
    },
    {
      "cell_type": "markdown",
      "metadata": {
        "id": "udPFH5-UjHvG"
      },
      "source": [
        "## 0. Load Stuff\n",
        "\n",
        "Load the `pandas`, `matplotib`,`seaborn`, and `geopandas`libraries."
      ]
    },
    {
      "cell_type": "code",
      "execution_count": 24,
      "metadata": {
        "id": "4Ha_5Ng7EmTb"
      },
      "outputs": [],
      "source": [
        "import pandas as pd\n",
        "import matplotlib.pyplot as plt\n",
        "import geopandas as gpd\n",
        "import seaborn as sns"
      ]
    },
    {
      "cell_type": "markdown",
      "metadata": {
        "id": "G1xgjPDxEsx9"
      },
      "source": [
        "Load in the dataframe found [here](https://raw.githubusercontent.com/fivethirtyeight/data/refs/heads/master/voter-registration/new-voter-registrations.csv) as the variable `voters`. Make sure you are familiar with the data, whose origins are [here](https://github.com/fivethirtyeight/data/tree/master/voter-registration)."
      ]
    },
    {
      "cell_type": "code",
      "execution_count": 2,
      "metadata": {
        "id": "OcDE94iIFC_f"
      },
      "outputs": [],
      "source": [
        "voters = pd.read_csv('https://raw.githubusercontent.com/fivethirtyeight/data/refs/heads/master/voter-registration/new-voter-registrations.csv')"
      ]
    },
    {
      "cell_type": "markdown",
      "metadata": {
        "id": "0NhbKuYLj0v0"
      },
      "source": [
        "##Introduction (10 points)\n",
        "You've been hired to work with a government organization interested in formation about voter registration in the United States. They have asked you to come up with two research questions--one about national trends and one about a state trend of your choice.\n",
        "\n",
        "Clearly state:\n",
        "* the purpose of your project\n",
        "* what the goal is\n",
        "* why it is important for someone to read this notebook?\n",
        "\n",
        "In additon, state your two research questions\n",
        "\n",
        "* Question 1:\n",
        "* Question 2:\n",
        "\n"
      ]
    },
    {
      "cell_type": "code",
      "execution_count": 53,
      "metadata": {
        "colab": {
          "base_uri": "https://localhost:8080/",
          "height": 73
        },
        "id": "Ej1UjWKxk-Xf",
        "outputId": "3b0233a5-4a70-4197-e175-fea689763f8f"
      },
      "outputs": [
        {
          "data": {
            "application/vnd.google.colaboratory.intrinsic+json": {
              "type": "string"
            },
            "text/plain": [
              "'\\nThis notebooks intends to anaylze trends within new voter registration data from a 4 month period in the years 2016 and 2020. It will provide clear\\nvisualizations and answers to the following questions:\\n\\nq1: states total voter registration compared by year\\nq2: what is California states voter registration over the 4 month time interval in 2016 and 2020\\n'"
            ]
          },
          "execution_count": 53,
          "metadata": {},
          "output_type": "execute_result"
        }
      ],
      "source": [
        "'''\n",
        "This notebooks intends to anaylze trends within new voter registration data from a 4 month period in the years 2016 and 2020. It will provide clear\n",
        "visualizations and answers to the following questions:\n",
        "\n",
        "q1: states total voter registration compared by year\n",
        "q2: what is California states voter registration over the 4 month time interval in 2016 and 2020\n",
        "'''"
      ]
    },
    {
      "cell_type": "markdown",
      "metadata": {
        "id": "EvmhQ4aMjYas"
      },
      "source": [
        "## 1. Data Processing (8 points)"
      ]
    },
    {
      "cell_type": "markdown",
      "metadata": {
        "id": "ExN1Y2VBjd-u"
      },
      "source": [
        "Show the first five rows of data and explain what the variable names are. (5 points)"
      ]
    },
    {
      "cell_type": "code",
      "execution_count": 6,
      "metadata": {
        "colab": {
          "base_uri": "https://localhost:8080/",
          "height": 54
        },
        "id": "tVyoWWUEFE8z",
        "outputId": "9e3c048e-4b72-479b-c20e-cd0e074e424d"
      },
      "outputs": [
        {
          "data": {
            "application/vnd.google.colaboratory.intrinsic+json": {
              "type": "string"
            },
            "text/plain": [
              "'\\nthe column names are features that are included in the data. in this case they are the state, year, month, and number of new \\nregistered voters in the entry\\n'"
            ]
          },
          "execution_count": 6,
          "metadata": {},
          "output_type": "execute_result"
        }
      ],
      "source": [
        "voters.head(5)\n",
        "\n",
        "'''\n",
        "the column names are features that are included in the data. in this case they are the state, year, month, and number of new\n",
        "registered voters in the entry\n",
        "'''"
      ]
    },
    {
      "cell_type": "markdown",
      "metadata": {
        "id": "V4AdCw75iskT"
      },
      "source": [
        "Check for any missing data data. (1 point)"
      ]
    },
    {
      "cell_type": "code",
      "execution_count": 9,
      "metadata": {
        "colab": {
          "base_uri": "https://localhost:8080/"
        },
        "id": "nhzCK0HFFF9R",
        "outputId": "5d330be4-8270-477c-8589-20ae9ee82e74"
      },
      "outputs": [
        {
          "data": {
            "text/plain": [
              "False"
            ]
          },
          "execution_count": 9,
          "metadata": {},
          "output_type": "execute_result"
        }
      ],
      "source": [
        "voters.isnull().values.any()"
      ]
    },
    {
      "cell_type": "markdown",
      "metadata": {
        "id": "M2fwyrdolVLq"
      },
      "source": [
        "Check your data types. (1 point)"
      ]
    },
    {
      "cell_type": "markdown",
      "metadata": {
        "id": "WqicEyDqlbDV"
      },
      "source": [
        "Rename the jurisdiction column to \"NAME\" and the \"New registered voters\" to \"registered_voters\" to use througout the notebook. (2 points)"
      ]
    },
    {
      "cell_type": "code",
      "execution_count": 3,
      "metadata": {
        "id": "bqcc9myTFHQW"
      },
      "outputs": [],
      "source": [
        "voters = voters.rename(columns = {'Jurisdiction':'NAME','New registered voters':'registered_voters' })"
      ]
    },
    {
      "cell_type": "markdown",
      "metadata": {
        "id": "WfUNd1pJ1y2N"
      },
      "source": [
        "Explain any potential limitations to your data (2 points)"
      ]
    },
    {
      "cell_type": "code",
      "execution_count": 4,
      "metadata": {
        "colab": {
          "base_uri": "https://localhost:8080/"
        },
        "id": "iOmivDHvFJWW",
        "outputId": "8bdbfd19-e657-46f1-fa16-ca6bf9cf0739"
      },
      "outputs": [
        {
          "data": {
            "text/plain": [
              "Index(['NAME', 'Year', 'Month', 'registered_voters'], dtype='object')"
            ]
          },
          "execution_count": 4,
          "metadata": {},
          "output_type": "execute_result"
        }
      ],
      "source": [
        "'''\n",
        "the data does not show the percent change in the state total eligable voting population, which is the metric that would reflect the true voter\n",
        "particpation. This will lead to states with large population sizes dominating statistics with a lack of normalization\n",
        "'''"
      ]
    },
    {
      "cell_type": "markdown",
      "metadata": {
        "id": "_u3e0lxol9RU"
      },
      "source": [
        "###Exploratory Data Analysis (20 points, as noted)"
      ]
    },
    {
      "cell_type": "markdown",
      "metadata": {
        "id": "w1U_R_rAmd9y"
      },
      "source": [
        "When was the highest amount of new voter registration? Show the state, month, year, and number of registered voters. (5 points)\n",
        "\n"
      ]
    },
    {
      "cell_type": "code",
      "execution_count": 7,
      "metadata": {
        "colab": {
          "base_uri": "https://localhost:8080/",
          "height": 210
        },
        "id": "vsDudPp-FKQM",
        "outputId": "1695dfc5-1ec6-4388-8d78-9dd45a66498a"
      },
      "outputs": [
        {
          "data": {
            "text/html": [
              "<div>\n",
              "<style scoped>\n",
              "    .dataframe tbody tr th:only-of-type {\n",
              "        vertical-align: middle;\n",
              "    }\n",
              "\n",
              "    .dataframe tbody tr th {\n",
              "        vertical-align: top;\n",
              "    }\n",
              "\n",
              "    .dataframe thead th {\n",
              "        text-align: right;\n",
              "    }\n",
              "</style>\n",
              "<table border=\"1\" class=\"dataframe\">\n",
              "  <thead>\n",
              "    <tr style=\"text-align: right;\">\n",
              "      <th></th>\n",
              "      <th>13</th>\n",
              "    </tr>\n",
              "  </thead>\n",
              "  <tbody>\n",
              "    <tr>\n",
              "      <th>NAME</th>\n",
              "      <td>California</td>\n",
              "    </tr>\n",
              "    <tr>\n",
              "      <th>Year</th>\n",
              "      <td>2020</td>\n",
              "    </tr>\n",
              "    <tr>\n",
              "      <th>Month</th>\n",
              "      <td>Feb</td>\n",
              "    </tr>\n",
              "    <tr>\n",
              "      <th>registered_voters</th>\n",
              "      <td>238281</td>\n",
              "    </tr>\n",
              "  </tbody>\n",
              "</table>\n",
              "</div><br><label><b>dtype:</b> object</label>"
            ],
            "text/plain": [
              "NAME                 California\n",
              "Year                       2020\n",
              "Month                       Feb\n",
              "registered_voters        238281\n",
              "Name: 13, dtype: object"
            ]
          },
          "execution_count": 7,
          "metadata": {},
          "output_type": "execute_result"
        }
      ],
      "source": [
        "highest = voters.sort_values(by='registered_voters', ascending=False)\n",
        "highest.iloc[0]\n"
      ]
    },
    {
      "cell_type": "markdown",
      "metadata": {
        "id": "tnBX7ouGobgN"
      },
      "source": [
        "What is the average voter registration? (1 points)"
      ]
    },
    {
      "cell_type": "code",
      "execution_count": 8,
      "metadata": {
        "colab": {
          "base_uri": "https://localhost:8080/"
        },
        "id": "xFlNiR5MFK6x",
        "outputId": "3213b8e1-e721-43aa-9091-0c6c1a367a5c"
      },
      "outputs": [
        {
          "data": {
            "text/plain": [
              "48223.46226415094"
            ]
          },
          "execution_count": 8,
          "metadata": {},
          "output_type": "execute_result"
        }
      ],
      "source": [
        "voters.registered_voters.mean()"
      ]
    },
    {
      "cell_type": "markdown",
      "metadata": {
        "id": "iUBplzXkpeIM"
      },
      "source": [
        "Create a dataframe called \"high_voters\" showing only the times where voter registration was higher than your above average. How many times did this happen? (3 points)\n"
      ]
    },
    {
      "cell_type": "code",
      "execution_count": 9,
      "metadata": {
        "colab": {
          "base_uri": "https://localhost:8080/",
          "height": 1000
        },
        "id": "bT8wyyt-FMvP",
        "outputId": "97a3f278-90f2-4c66-c72a-f0e364ccf9a5"
      },
      "outputs": [
        {
          "data": {
            "application/vnd.google.colaboratory.intrinsic+json": {
              "summary": "{\n  \"name\": \"high_voters\",\n  \"rows\": 36,\n  \"fields\": [\n    {\n      \"column\": \"NAME\",\n      \"properties\": {\n        \"dtype\": \"category\",\n        \"num_unique_values\": 7,\n        \"samples\": [\n          \"Arizona\",\n          \"California\",\n          \"North Carolina\"\n        ],\n        \"semantic_type\": \"\",\n        \"description\": \"\"\n      }\n    },\n    {\n      \"column\": \"Year\",\n      \"properties\": {\n        \"dtype\": \"number\",\n        \"std\": 1,\n        \"min\": 2016,\n        \"max\": 2020,\n        \"num_unique_values\": 2,\n        \"samples\": [\n          2020,\n          2016\n        ],\n        \"semantic_type\": \"\",\n        \"description\": \"\"\n      }\n    },\n    {\n      \"column\": \"Month\",\n      \"properties\": {\n        \"dtype\": \"category\",\n        \"num_unique_values\": 5,\n        \"samples\": [\n          \"Mar\",\n          \"May\"\n        ],\n        \"semantic_type\": \"\",\n        \"description\": \"\"\n      }\n    },\n    {\n      \"column\": \"registered_voters\",\n      \"properties\": {\n        \"dtype\": \"number\",\n        \"std\": 48395,\n        \"min\": 48614,\n        \"max\": 238281,\n        \"num_unique_values\": 36,\n        \"samples\": [\n          129424,\n          52508\n        ],\n        \"semantic_type\": \"\",\n        \"description\": \"\"\n      }\n    }\n  ]\n}",
              "type": "dataframe",
              "variable_name": "high_voters"
            },
            "text/html": [
              "\n",
              "  <div id=\"df-36d8c125-5a29-423e-99e3-cba48a2af550\" class=\"colab-df-container\">\n",
              "    <div>\n",
              "<style scoped>\n",
              "    .dataframe tbody tr th:only-of-type {\n",
              "        vertical-align: middle;\n",
              "    }\n",
              "\n",
              "    .dataframe tbody tr th {\n",
              "        vertical-align: top;\n",
              "    }\n",
              "\n",
              "    .dataframe thead th {\n",
              "        text-align: right;\n",
              "    }\n",
              "</style>\n",
              "<table border=\"1\" class=\"dataframe\">\n",
              "  <thead>\n",
              "    <tr style=\"text-align: right;\">\n",
              "      <th></th>\n",
              "      <th>NAME</th>\n",
              "      <th>Year</th>\n",
              "      <th>Month</th>\n",
              "      <th>registered_voters</th>\n",
              "    </tr>\n",
              "  </thead>\n",
              "  <tbody>\n",
              "    <tr>\n",
              "      <th>1</th>\n",
              "      <td>Arizona</td>\n",
              "      <td>2016</td>\n",
              "      <td>Feb</td>\n",
              "      <td>51155</td>\n",
              "    </tr>\n",
              "    <tr>\n",
              "      <th>2</th>\n",
              "      <td>Arizona</td>\n",
              "      <td>2016</td>\n",
              "      <td>Mar</td>\n",
              "      <td>48614</td>\n",
              "    </tr>\n",
              "    <tr>\n",
              "      <th>5</th>\n",
              "      <td>Arizona</td>\n",
              "      <td>2020</td>\n",
              "      <td>Feb</td>\n",
              "      <td>50853</td>\n",
              "    </tr>\n",
              "    <tr>\n",
              "      <th>8</th>\n",
              "      <td>California</td>\n",
              "      <td>2016</td>\n",
              "      <td>Jan</td>\n",
              "      <td>87574</td>\n",
              "    </tr>\n",
              "    <tr>\n",
              "      <th>9</th>\n",
              "      <td>California</td>\n",
              "      <td>2016</td>\n",
              "      <td>Feb</td>\n",
              "      <td>103377</td>\n",
              "    </tr>\n",
              "    <tr>\n",
              "      <th>10</th>\n",
              "      <td>California</td>\n",
              "      <td>2016</td>\n",
              "      <td>Mar</td>\n",
              "      <td>174278</td>\n",
              "    </tr>\n",
              "    <tr>\n",
              "      <th>11</th>\n",
              "      <td>California</td>\n",
              "      <td>2016</td>\n",
              "      <td>Apr</td>\n",
              "      <td>185478</td>\n",
              "    </tr>\n",
              "    <tr>\n",
              "      <th>12</th>\n",
              "      <td>California</td>\n",
              "      <td>2020</td>\n",
              "      <td>Jan</td>\n",
              "      <td>151595</td>\n",
              "    </tr>\n",
              "    <tr>\n",
              "      <th>13</th>\n",
              "      <td>California</td>\n",
              "      <td>2020</td>\n",
              "      <td>Feb</td>\n",
              "      <td>238281</td>\n",
              "    </tr>\n",
              "    <tr>\n",
              "      <th>14</th>\n",
              "      <td>California</td>\n",
              "      <td>2020</td>\n",
              "      <td>Mar</td>\n",
              "      <td>176810</td>\n",
              "    </tr>\n",
              "    <tr>\n",
              "      <th>42</th>\n",
              "      <td>Florida</td>\n",
              "      <td>2016</td>\n",
              "      <td>Jan</td>\n",
              "      <td>50231</td>\n",
              "    </tr>\n",
              "    <tr>\n",
              "      <th>43</th>\n",
              "      <td>Florida</td>\n",
              "      <td>2016</td>\n",
              "      <td>Feb</td>\n",
              "      <td>87351</td>\n",
              "    </tr>\n",
              "    <tr>\n",
              "      <th>44</th>\n",
              "      <td>Florida</td>\n",
              "      <td>2016</td>\n",
              "      <td>Mar</td>\n",
              "      <td>73627</td>\n",
              "    </tr>\n",
              "    <tr>\n",
              "      <th>45</th>\n",
              "      <td>Florida</td>\n",
              "      <td>2016</td>\n",
              "      <td>Apr</td>\n",
              "      <td>52508</td>\n",
              "    </tr>\n",
              "    <tr>\n",
              "      <th>46</th>\n",
              "      <td>Florida</td>\n",
              "      <td>2020</td>\n",
              "      <td>Jan</td>\n",
              "      <td>77466</td>\n",
              "    </tr>\n",
              "    <tr>\n",
              "      <th>47</th>\n",
              "      <td>Florida</td>\n",
              "      <td>2020</td>\n",
              "      <td>Feb</td>\n",
              "      <td>109859</td>\n",
              "    </tr>\n",
              "    <tr>\n",
              "      <th>48</th>\n",
              "      <td>Florida</td>\n",
              "      <td>2020</td>\n",
              "      <td>Mar</td>\n",
              "      <td>54872</td>\n",
              "    </tr>\n",
              "    <tr>\n",
              "      <th>55</th>\n",
              "      <td>Georgia</td>\n",
              "      <td>2020</td>\n",
              "      <td>Feb</td>\n",
              "      <td>55386</td>\n",
              "    </tr>\n",
              "    <tr>\n",
              "      <th>59</th>\n",
              "      <td>Illinois</td>\n",
              "      <td>2016</td>\n",
              "      <td>Feb</td>\n",
              "      <td>99674</td>\n",
              "    </tr>\n",
              "    <tr>\n",
              "      <th>60</th>\n",
              "      <td>Illinois</td>\n",
              "      <td>2016</td>\n",
              "      <td>Mar</td>\n",
              "      <td>52782</td>\n",
              "    </tr>\n",
              "    <tr>\n",
              "      <th>61</th>\n",
              "      <td>Illinois</td>\n",
              "      <td>2016</td>\n",
              "      <td>Apr</td>\n",
              "      <td>76098</td>\n",
              "    </tr>\n",
              "    <tr>\n",
              "      <th>63</th>\n",
              "      <td>Illinois</td>\n",
              "      <td>2020</td>\n",
              "      <td>Feb</td>\n",
              "      <td>68455</td>\n",
              "    </tr>\n",
              "    <tr>\n",
              "      <th>77</th>\n",
              "      <td>North Carolina</td>\n",
              "      <td>2016</td>\n",
              "      <td>Feb</td>\n",
              "      <td>84357</td>\n",
              "    </tr>\n",
              "    <tr>\n",
              "      <th>78</th>\n",
              "      <td>North Carolina</td>\n",
              "      <td>2016</td>\n",
              "      <td>Mar</td>\n",
              "      <td>58272</td>\n",
              "    </tr>\n",
              "    <tr>\n",
              "      <th>79</th>\n",
              "      <td>North Carolina</td>\n",
              "      <td>2016</td>\n",
              "      <td>Apr</td>\n",
              "      <td>73341</td>\n",
              "    </tr>\n",
              "    <tr>\n",
              "      <th>81</th>\n",
              "      <td>North Carolina</td>\n",
              "      <td>2020</td>\n",
              "      <td>Jan</td>\n",
              "      <td>111990</td>\n",
              "    </tr>\n",
              "    <tr>\n",
              "      <th>82</th>\n",
              "      <td>North Carolina</td>\n",
              "      <td>2020</td>\n",
              "      <td>Feb</td>\n",
              "      <td>54053</td>\n",
              "    </tr>\n",
              "    <tr>\n",
              "      <th>83</th>\n",
              "      <td>North Carolina</td>\n",
              "      <td>2020</td>\n",
              "      <td>Mar</td>\n",
              "      <td>54807</td>\n",
              "    </tr>\n",
              "    <tr>\n",
              "      <th>86</th>\n",
              "      <td>Texas</td>\n",
              "      <td>2016</td>\n",
              "      <td>Jan</td>\n",
              "      <td>132860</td>\n",
              "    </tr>\n",
              "    <tr>\n",
              "      <th>87</th>\n",
              "      <td>Texas</td>\n",
              "      <td>2016</td>\n",
              "      <td>Feb</td>\n",
              "      <td>143795</td>\n",
              "    </tr>\n",
              "    <tr>\n",
              "      <th>88</th>\n",
              "      <td>Texas</td>\n",
              "      <td>2016</td>\n",
              "      <td>Mar</td>\n",
              "      <td>170607</td>\n",
              "    </tr>\n",
              "    <tr>\n",
              "      <th>89</th>\n",
              "      <td>Texas</td>\n",
              "      <td>2016</td>\n",
              "      <td>Apr</td>\n",
              "      <td>143199</td>\n",
              "    </tr>\n",
              "    <tr>\n",
              "      <th>90</th>\n",
              "      <td>Texas</td>\n",
              "      <td>2016</td>\n",
              "      <td>May</td>\n",
              "      <td>91205</td>\n",
              "    </tr>\n",
              "    <tr>\n",
              "      <th>91</th>\n",
              "      <td>Texas</td>\n",
              "      <td>2020</td>\n",
              "      <td>Jan</td>\n",
              "      <td>134559</td>\n",
              "    </tr>\n",
              "    <tr>\n",
              "      <th>92</th>\n",
              "      <td>Texas</td>\n",
              "      <td>2020</td>\n",
              "      <td>Feb</td>\n",
              "      <td>130080</td>\n",
              "    </tr>\n",
              "    <tr>\n",
              "      <th>93</th>\n",
              "      <td>Texas</td>\n",
              "      <td>2020</td>\n",
              "      <td>Mar</td>\n",
              "      <td>129424</td>\n",
              "    </tr>\n",
              "  </tbody>\n",
              "</table>\n",
              "</div>\n",
              "    <div class=\"colab-df-buttons\">\n",
              "\n",
              "  <div class=\"colab-df-container\">\n",
              "    <button class=\"colab-df-convert\" onclick=\"convertToInteractive('df-36d8c125-5a29-423e-99e3-cba48a2af550')\"\n",
              "            title=\"Convert this dataframe to an interactive table.\"\n",
              "            style=\"display:none;\">\n",
              "\n",
              "  <svg xmlns=\"http://www.w3.org/2000/svg\" height=\"24px\" viewBox=\"0 -960 960 960\">\n",
              "    <path d=\"M120-120v-720h720v720H120Zm60-500h600v-160H180v160Zm220 220h160v-160H400v160Zm0 220h160v-160H400v160ZM180-400h160v-160H180v160Zm440 0h160v-160H620v160ZM180-180h160v-160H180v160Zm440 0h160v-160H620v160Z\"/>\n",
              "  </svg>\n",
              "    </button>\n",
              "\n",
              "  <style>\n",
              "    .colab-df-container {\n",
              "      display:flex;\n",
              "      gap: 12px;\n",
              "    }\n",
              "\n",
              "    .colab-df-convert {\n",
              "      background-color: #E8F0FE;\n",
              "      border: none;\n",
              "      border-radius: 50%;\n",
              "      cursor: pointer;\n",
              "      display: none;\n",
              "      fill: #1967D2;\n",
              "      height: 32px;\n",
              "      padding: 0 0 0 0;\n",
              "      width: 32px;\n",
              "    }\n",
              "\n",
              "    .colab-df-convert:hover {\n",
              "      background-color: #E2EBFA;\n",
              "      box-shadow: 0px 1px 2px rgba(60, 64, 67, 0.3), 0px 1px 3px 1px rgba(60, 64, 67, 0.15);\n",
              "      fill: #174EA6;\n",
              "    }\n",
              "\n",
              "    .colab-df-buttons div {\n",
              "      margin-bottom: 4px;\n",
              "    }\n",
              "\n",
              "    [theme=dark] .colab-df-convert {\n",
              "      background-color: #3B4455;\n",
              "      fill: #D2E3FC;\n",
              "    }\n",
              "\n",
              "    [theme=dark] .colab-df-convert:hover {\n",
              "      background-color: #434B5C;\n",
              "      box-shadow: 0px 1px 3px 1px rgba(0, 0, 0, 0.15);\n",
              "      filter: drop-shadow(0px 1px 2px rgba(0, 0, 0, 0.3));\n",
              "      fill: #FFFFFF;\n",
              "    }\n",
              "  </style>\n",
              "\n",
              "    <script>\n",
              "      const buttonEl =\n",
              "        document.querySelector('#df-36d8c125-5a29-423e-99e3-cba48a2af550 button.colab-df-convert');\n",
              "      buttonEl.style.display =\n",
              "        google.colab.kernel.accessAllowed ? 'block' : 'none';\n",
              "\n",
              "      async function convertToInteractive(key) {\n",
              "        const element = document.querySelector('#df-36d8c125-5a29-423e-99e3-cba48a2af550');\n",
              "        const dataTable =\n",
              "          await google.colab.kernel.invokeFunction('convertToInteractive',\n",
              "                                                    [key], {});\n",
              "        if (!dataTable) return;\n",
              "\n",
              "        const docLinkHtml = 'Like what you see? Visit the ' +\n",
              "          '<a target=\"_blank\" href=https://colab.research.google.com/notebooks/data_table.ipynb>data table notebook</a>'\n",
              "          + ' to learn more about interactive tables.';\n",
              "        element.innerHTML = '';\n",
              "        dataTable['output_type'] = 'display_data';\n",
              "        await google.colab.output.renderOutput(dataTable, element);\n",
              "        const docLink = document.createElement('div');\n",
              "        docLink.innerHTML = docLinkHtml;\n",
              "        element.appendChild(docLink);\n",
              "      }\n",
              "    </script>\n",
              "  </div>\n",
              "\n",
              "\n",
              "<div id=\"df-d795371f-17a5-4646-ab99-3d49e79ffe7c\">\n",
              "  <button class=\"colab-df-quickchart\" onclick=\"quickchart('df-d795371f-17a5-4646-ab99-3d49e79ffe7c')\"\n",
              "            title=\"Suggest charts\"\n",
              "            style=\"display:none;\">\n",
              "\n",
              "<svg xmlns=\"http://www.w3.org/2000/svg\" height=\"24px\"viewBox=\"0 0 24 24\"\n",
              "     width=\"24px\">\n",
              "    <g>\n",
              "        <path d=\"M19 3H5c-1.1 0-2 .9-2 2v14c0 1.1.9 2 2 2h14c1.1 0 2-.9 2-2V5c0-1.1-.9-2-2-2zM9 17H7v-7h2v7zm4 0h-2V7h2v10zm4 0h-2v-4h2v4z\"/>\n",
              "    </g>\n",
              "</svg>\n",
              "  </button>\n",
              "\n",
              "<style>\n",
              "  .colab-df-quickchart {\n",
              "      --bg-color: #E8F0FE;\n",
              "      --fill-color: #1967D2;\n",
              "      --hover-bg-color: #E2EBFA;\n",
              "      --hover-fill-color: #174EA6;\n",
              "      --disabled-fill-color: #AAA;\n",
              "      --disabled-bg-color: #DDD;\n",
              "  }\n",
              "\n",
              "  [theme=dark] .colab-df-quickchart {\n",
              "      --bg-color: #3B4455;\n",
              "      --fill-color: #D2E3FC;\n",
              "      --hover-bg-color: #434B5C;\n",
              "      --hover-fill-color: #FFFFFF;\n",
              "      --disabled-bg-color: #3B4455;\n",
              "      --disabled-fill-color: #666;\n",
              "  }\n",
              "\n",
              "  .colab-df-quickchart {\n",
              "    background-color: var(--bg-color);\n",
              "    border: none;\n",
              "    border-radius: 50%;\n",
              "    cursor: pointer;\n",
              "    display: none;\n",
              "    fill: var(--fill-color);\n",
              "    height: 32px;\n",
              "    padding: 0;\n",
              "    width: 32px;\n",
              "  }\n",
              "\n",
              "  .colab-df-quickchart:hover {\n",
              "    background-color: var(--hover-bg-color);\n",
              "    box-shadow: 0 1px 2px rgba(60, 64, 67, 0.3), 0 1px 3px 1px rgba(60, 64, 67, 0.15);\n",
              "    fill: var(--button-hover-fill-color);\n",
              "  }\n",
              "\n",
              "  .colab-df-quickchart-complete:disabled,\n",
              "  .colab-df-quickchart-complete:disabled:hover {\n",
              "    background-color: var(--disabled-bg-color);\n",
              "    fill: var(--disabled-fill-color);\n",
              "    box-shadow: none;\n",
              "  }\n",
              "\n",
              "  .colab-df-spinner {\n",
              "    border: 2px solid var(--fill-color);\n",
              "    border-color: transparent;\n",
              "    border-bottom-color: var(--fill-color);\n",
              "    animation:\n",
              "      spin 1s steps(1) infinite;\n",
              "  }\n",
              "\n",
              "  @keyframes spin {\n",
              "    0% {\n",
              "      border-color: transparent;\n",
              "      border-bottom-color: var(--fill-color);\n",
              "      border-left-color: var(--fill-color);\n",
              "    }\n",
              "    20% {\n",
              "      border-color: transparent;\n",
              "      border-left-color: var(--fill-color);\n",
              "      border-top-color: var(--fill-color);\n",
              "    }\n",
              "    30% {\n",
              "      border-color: transparent;\n",
              "      border-left-color: var(--fill-color);\n",
              "      border-top-color: var(--fill-color);\n",
              "      border-right-color: var(--fill-color);\n",
              "    }\n",
              "    40% {\n",
              "      border-color: transparent;\n",
              "      border-right-color: var(--fill-color);\n",
              "      border-top-color: var(--fill-color);\n",
              "    }\n",
              "    60% {\n",
              "      border-color: transparent;\n",
              "      border-right-color: var(--fill-color);\n",
              "    }\n",
              "    80% {\n",
              "      border-color: transparent;\n",
              "      border-right-color: var(--fill-color);\n",
              "      border-bottom-color: var(--fill-color);\n",
              "    }\n",
              "    90% {\n",
              "      border-color: transparent;\n",
              "      border-bottom-color: var(--fill-color);\n",
              "    }\n",
              "  }\n",
              "</style>\n",
              "\n",
              "  <script>\n",
              "    async function quickchart(key) {\n",
              "      const quickchartButtonEl =\n",
              "        document.querySelector('#' + key + ' button');\n",
              "      quickchartButtonEl.disabled = true;  // To prevent multiple clicks.\n",
              "      quickchartButtonEl.classList.add('colab-df-spinner');\n",
              "      try {\n",
              "        const charts = await google.colab.kernel.invokeFunction(\n",
              "            'suggestCharts', [key], {});\n",
              "      } catch (error) {\n",
              "        console.error('Error during call to suggestCharts:', error);\n",
              "      }\n",
              "      quickchartButtonEl.classList.remove('colab-df-spinner');\n",
              "      quickchartButtonEl.classList.add('colab-df-quickchart-complete');\n",
              "    }\n",
              "    (() => {\n",
              "      let quickchartButtonEl =\n",
              "        document.querySelector('#df-d795371f-17a5-4646-ab99-3d49e79ffe7c button');\n",
              "      quickchartButtonEl.style.display =\n",
              "        google.colab.kernel.accessAllowed ? 'block' : 'none';\n",
              "    })();\n",
              "  </script>\n",
              "</div>\n",
              "\n",
              "  <div id=\"id_6f0b58bc-ddd4-4955-8c79-bce2ad0eca85\">\n",
              "    <style>\n",
              "      .colab-df-generate {\n",
              "        background-color: #E8F0FE;\n",
              "        border: none;\n",
              "        border-radius: 50%;\n",
              "        cursor: pointer;\n",
              "        display: none;\n",
              "        fill: #1967D2;\n",
              "        height: 32px;\n",
              "        padding: 0 0 0 0;\n",
              "        width: 32px;\n",
              "      }\n",
              "\n",
              "      .colab-df-generate:hover {\n",
              "        background-color: #E2EBFA;\n",
              "        box-shadow: 0px 1px 2px rgba(60, 64, 67, 0.3), 0px 1px 3px 1px rgba(60, 64, 67, 0.15);\n",
              "        fill: #174EA6;\n",
              "      }\n",
              "\n",
              "      [theme=dark] .colab-df-generate {\n",
              "        background-color: #3B4455;\n",
              "        fill: #D2E3FC;\n",
              "      }\n",
              "\n",
              "      [theme=dark] .colab-df-generate:hover {\n",
              "        background-color: #434B5C;\n",
              "        box-shadow: 0px 1px 3px 1px rgba(0, 0, 0, 0.15);\n",
              "        filter: drop-shadow(0px 1px 2px rgba(0, 0, 0, 0.3));\n",
              "        fill: #FFFFFF;\n",
              "      }\n",
              "    </style>\n",
              "    <button class=\"colab-df-generate\" onclick=\"generateWithVariable('high_voters')\"\n",
              "            title=\"Generate code using this dataframe.\"\n",
              "            style=\"display:none;\">\n",
              "\n",
              "  <svg xmlns=\"http://www.w3.org/2000/svg\" height=\"24px\"viewBox=\"0 0 24 24\"\n",
              "       width=\"24px\">\n",
              "    <path d=\"M7,19H8.4L18.45,9,17,7.55,7,17.6ZM5,21V16.75L18.45,3.32a2,2,0,0,1,2.83,0l1.4,1.43a1.91,1.91,0,0,1,.58,1.4,1.91,1.91,0,0,1-.58,1.4L9.25,21ZM18.45,9,17,7.55Zm-12,3A5.31,5.31,0,0,0,4.9,8.1,5.31,5.31,0,0,0,1,6.5,5.31,5.31,0,0,0,4.9,4.9,5.31,5.31,0,0,0,6.5,1,5.31,5.31,0,0,0,8.1,4.9,5.31,5.31,0,0,0,12,6.5,5.46,5.46,0,0,0,6.5,12Z\"/>\n",
              "  </svg>\n",
              "    </button>\n",
              "    <script>\n",
              "      (() => {\n",
              "      const buttonEl =\n",
              "        document.querySelector('#id_6f0b58bc-ddd4-4955-8c79-bce2ad0eca85 button.colab-df-generate');\n",
              "      buttonEl.style.display =\n",
              "        google.colab.kernel.accessAllowed ? 'block' : 'none';\n",
              "\n",
              "      buttonEl.onclick = () => {\n",
              "        google.colab.notebook.generateWithVariable('high_voters');\n",
              "      }\n",
              "      })();\n",
              "    </script>\n",
              "  </div>\n",
              "\n",
              "    </div>\n",
              "  </div>\n"
            ],
            "text/plain": [
              "              NAME  Year Month  registered_voters\n",
              "1          Arizona  2016   Feb              51155\n",
              "2          Arizona  2016   Mar              48614\n",
              "5          Arizona  2020   Feb              50853\n",
              "8       California  2016   Jan              87574\n",
              "9       California  2016   Feb             103377\n",
              "10      California  2016   Mar             174278\n",
              "11      California  2016   Apr             185478\n",
              "12      California  2020   Jan             151595\n",
              "13      California  2020   Feb             238281\n",
              "14      California  2020   Mar             176810\n",
              "42         Florida  2016   Jan              50231\n",
              "43         Florida  2016   Feb              87351\n",
              "44         Florida  2016   Mar              73627\n",
              "45         Florida  2016   Apr              52508\n",
              "46         Florida  2020   Jan              77466\n",
              "47         Florida  2020   Feb             109859\n",
              "48         Florida  2020   Mar              54872\n",
              "55         Georgia  2020   Feb              55386\n",
              "59        Illinois  2016   Feb              99674\n",
              "60        Illinois  2016   Mar              52782\n",
              "61        Illinois  2016   Apr              76098\n",
              "63        Illinois  2020   Feb              68455\n",
              "77  North Carolina  2016   Feb              84357\n",
              "78  North Carolina  2016   Mar              58272\n",
              "79  North Carolina  2016   Apr              73341\n",
              "81  North Carolina  2020   Jan             111990\n",
              "82  North Carolina  2020   Feb              54053\n",
              "83  North Carolina  2020   Mar              54807\n",
              "86           Texas  2016   Jan             132860\n",
              "87           Texas  2016   Feb             143795\n",
              "88           Texas  2016   Mar             170607\n",
              "89           Texas  2016   Apr             143199\n",
              "90           Texas  2016   May              91205\n",
              "91           Texas  2020   Jan             134559\n",
              "92           Texas  2020   Feb             130080\n",
              "93           Texas  2020   Mar             129424"
            ]
          },
          "execution_count": 9,
          "metadata": {},
          "output_type": "execute_result"
        }
      ],
      "source": [
        "mean = voters.registered_voters.mean()\n",
        "high_voters = voters.loc[voters.registered_voters >= mean]\n",
        "high_voters"
      ]
    },
    {
      "cell_type": "markdown",
      "metadata": {
        "id": "skpwgqXwp8wA"
      },
      "source": [
        "How many times did each state go above the national average for new voter registration? (2 points)\n",
        "\n"
      ]
    },
    {
      "cell_type": "code",
      "execution_count": 11,
      "metadata": {
        "colab": {
          "base_uri": "https://localhost:8080/",
          "height": 335
        },
        "id": "-ErvpKDRFOLQ",
        "outputId": "1e1988b2-a762-4c19-dabf-836a0faeede4"
      },
      "outputs": [
        {
          "data": {
            "text/html": [
              "<div>\n",
              "<style scoped>\n",
              "    .dataframe tbody tr th:only-of-type {\n",
              "        vertical-align: middle;\n",
              "    }\n",
              "\n",
              "    .dataframe tbody tr th {\n",
              "        vertical-align: top;\n",
              "    }\n",
              "\n",
              "    .dataframe thead th {\n",
              "        text-align: right;\n",
              "    }\n",
              "</style>\n",
              "<table border=\"1\" class=\"dataframe\">\n",
              "  <thead>\n",
              "    <tr style=\"text-align: right;\">\n",
              "      <th></th>\n",
              "      <th>count</th>\n",
              "    </tr>\n",
              "    <tr>\n",
              "      <th>NAME</th>\n",
              "      <th></th>\n",
              "    </tr>\n",
              "  </thead>\n",
              "  <tbody>\n",
              "    <tr>\n",
              "      <th>Texas</th>\n",
              "      <td>8</td>\n",
              "    </tr>\n",
              "    <tr>\n",
              "      <th>California</th>\n",
              "      <td>7</td>\n",
              "    </tr>\n",
              "    <tr>\n",
              "      <th>Florida</th>\n",
              "      <td>7</td>\n",
              "    </tr>\n",
              "    <tr>\n",
              "      <th>North Carolina</th>\n",
              "      <td>6</td>\n",
              "    </tr>\n",
              "    <tr>\n",
              "      <th>Illinois</th>\n",
              "      <td>4</td>\n",
              "    </tr>\n",
              "    <tr>\n",
              "      <th>Arizona</th>\n",
              "      <td>3</td>\n",
              "    </tr>\n",
              "    <tr>\n",
              "      <th>Georgia</th>\n",
              "      <td>1</td>\n",
              "    </tr>\n",
              "  </tbody>\n",
              "</table>\n",
              "</div><br><label><b>dtype:</b> int64</label>"
            ],
            "text/plain": [
              "NAME\n",
              "Texas             8\n",
              "California        7\n",
              "Florida           7\n",
              "North Carolina    6\n",
              "Illinois          4\n",
              "Arizona           3\n",
              "Georgia           1\n",
              "Name: count, dtype: int64"
            ]
          },
          "execution_count": 11,
          "metadata": {},
          "output_type": "execute_result"
        }
      ],
      "source": [
        "high_voters.NAME.value_counts()"
      ]
    },
    {
      "cell_type": "markdown",
      "metadata": {
        "id": "dGJ6ev0ihoek"
      },
      "source": [
        "Which three states had the highest average voter registration overall? Show only the top three results. (5 points)"
      ]
    },
    {
      "cell_type": "code",
      "execution_count": 21,
      "metadata": {
        "colab": {
          "base_uri": "https://localhost:8080/",
          "height": 210
        },
        "id": "xus18i6nFPFE",
        "outputId": "950ac587-93af-4ddb-e358-25b9b606bcfd"
      },
      "outputs": [
        {
          "data": {
            "text/html": [
              "<div>\n",
              "<style scoped>\n",
              "    .dataframe tbody tr th:only-of-type {\n",
              "        vertical-align: middle;\n",
              "    }\n",
              "\n",
              "    .dataframe tbody tr th {\n",
              "        vertical-align: top;\n",
              "    }\n",
              "\n",
              "    .dataframe thead th {\n",
              "        text-align: right;\n",
              "    }\n",
              "</style>\n",
              "<table border=\"1\" class=\"dataframe\">\n",
              "  <thead>\n",
              "    <tr style=\"text-align: right;\">\n",
              "      <th></th>\n",
              "      <th>registered_voters</th>\n",
              "    </tr>\n",
              "    <tr>\n",
              "      <th>NAME</th>\n",
              "      <th></th>\n",
              "    </tr>\n",
              "  </thead>\n",
              "  <tbody>\n",
              "    <tr>\n",
              "      <th>California</th>\n",
              "      <td>144545.375</td>\n",
              "    </tr>\n",
              "    <tr>\n",
              "      <th>Texas</th>\n",
              "      <td>114610.100</td>\n",
              "    </tr>\n",
              "    <tr>\n",
              "      <th>Florida</th>\n",
              "      <td>65868.125</td>\n",
              "    </tr>\n",
              "  </tbody>\n",
              "</table>\n",
              "</div><br><label><b>dtype:</b> float64</label>"
            ],
            "text/plain": [
              "NAME\n",
              "California    144545.375\n",
              "Texas         114610.100\n",
              "Florida        65868.125\n",
              "Name: registered_voters, dtype: float64"
            ]
          },
          "execution_count": 21,
          "metadata": {},
          "output_type": "execute_result"
        }
      ],
      "source": [
        "df=voters.groupby('NAME').registered_voters.mean()\n",
        "df = df.sort_values(ascending=False)\n",
        "df.head(3)"
      ]
    },
    {
      "cell_type": "markdown",
      "metadata": {
        "id": "yZtT1NZmqaDY"
      },
      "source": [
        "##Data Visualization (30 points, as marked)"
      ]
    },
    {
      "cell_type": "markdown",
      "metadata": {
        "id": "sWvV4xo44kAm"
      },
      "source": [
        "Create a plot showing the voter registratation by state.\n",
        "* A dataframe/a way to show the total voters registered per state. If you create a new dataframe, you may need to include `reset_index()`.(3 points)\n",
        "* A figure size of 10,10 (1 point)\n",
        "* Clearly legible labels and titles (2 points)\n",
        "* A color palette that is not the default palette (1 point)\n",
        "* Comment on the trends you see (2 points)\n",
        "\n",
        "\n",
        "(9 points total)"
      ]
    },
    {
      "cell_type": "code",
      "execution_count": 27,
      "metadata": {
        "colab": {
          "base_uri": "https://localhost:8080/",
          "height": 594
        },
        "id": "ZUHIW_YaFR3c",
        "outputId": "638fdef3-8512-4d0e-a350-337a5c1d2fc1"
      },
      "outputs": [
        {
          "name": "stderr",
          "output_type": "stream",
          "text": [
            "<ipython-input-27-9b81fcb83daa>:4: FutureWarning: \n",
            "\n",
            "Passing `palette` without assigning `hue` is deprecated and will be removed in v0.14.0. Assign the `y` variable to `hue` and set `legend=False` for the same effect.\n",
            "\n",
            "  sns.barplot(x='registered_voters', y='NAME', data=state, palette='flare')\n"
          ]
        },
        {
          "data": {
            "image/png": "[encoded data removed]",
            "text/plain": [
              "<Figure size 640x480 with 1 Axes>"
            ]
          },
          "metadata": {},
          "output_type": "display_data"
        }
      ],
      "source": [
        "state = voters.groupby('NAME')['registered_voters'].sum().reset_index()\n",
        "state = state.sort_values(by='registered_voters', ascending=False)\n",
        "\n",
        "sns.barplot(x='registered_voters', y='NAME', data=state, palette='flare')\n",
        "plt.title('Total Registered Voters by State', fontsize=18)\n",
        "plt.xlabel('Number of Registered Voters', fontsize=14)\n",
        "plt.ylabel('State', fontsize=14)\n",
        "plt.show()"
      ]
    },
    {
      "cell_type": "code",
      "execution_count": 28,
      "metadata": {
        "colab": {
          "base_uri": "https://localhost:8080/",
          "height": 36
        },
        "id": "U-e5MwFVs5G9",
        "outputId": "8b188ed8-67ef-45a7-efee-b1f687113a9f"
      },
      "outputs": [
        {
          "data": {
            "application/vnd.google.colaboratory.intrinsic+json": {
              "type": "string"
            },
            "text/plain": [
              "'\\nas predicted the states with the larger voter registerations are the ones with a larger population\\n'"
            ]
          },
          "execution_count": 28,
          "metadata": {},
          "output_type": "execute_result"
        }
      ],
      "source": [
        "'''\n",
        "as predicted the states with the larger voter registerations are the ones with a larger population\n",
        "'''"
      ]
    },
    {
      "cell_type": "markdown",
      "metadata": {
        "id": "RNpnadEWq5fu"
      },
      "source": [
        "Produce a plot comparing voter registation in 2016 and 2020. (2 pts)\n",
        "* Color the graph based on the month.(1 pt)\n",
        "* Change the default color palette used. (1 pt)\n",
        "* Comment on any trends you see. (2 pts)\n",
        "* Add the appropriate labels and title (1)\n",
        "* Comment on any trends you see (2 points)\n",
        "\n",
        "(9 pts total)"
      ]
    },
    {
      "cell_type": "code",
      "execution_count": 33,
      "metadata": {
        "colab": {
          "base_uri": "https://localhost:8080/",
          "height": 497
        },
        "id": "VMPnqr_-FTqZ",
        "outputId": "75144be3-f984-4dcc-d511-02776991c0ef"
      },
      "outputs": [
        {
          "data": {
            "text/plain": [
              "Text(0, 0.5, 'Total Registered Voters')"
            ]
          },
          "execution_count": 33,
          "metadata": {},
          "output_type": "execute_result"
        },
        {
          "data": {
            "image/png": "[encoded data removed]",
            "text/plain": [
              "<Figure size 640x480 with 1 Axes>"
            ]
          },
          "metadata": {},
          "output_type": "display_data"
        }
      ],
      "source": [
        "month = voters.groupby(['Year', 'Month'])['registered_voters'].sum().reset_index()\n",
        "\n",
        "sns.barplot(x='Year', y='registered_voters', hue='Month', data=month, palette='magma')\n",
        "plt.title('Voter Registration Comparison by Month: 2016 vs 2020', fontsize=16)\n",
        "plt.xlabel('Month', fontsize=14)\n",
        "plt.ylabel('Total Registered Voters', fontsize=14)"
      ]
    },
    {
      "cell_type": "code",
      "execution_count": null,
      "metadata": {
        "id": "iFMVQZLrwGj8"
      },
      "outputs": [],
      "source": [
        "'''\n",
        "2020 saw a clear drop due to covid in april and may, but it is interesting to see may of 2016 have similar registration numbers as he start of\n",
        "covid\n",
        "'''"
      ]
    },
    {
      "cell_type": "markdown",
      "metadata": {
        "id": "SbGMnC5XqqoK"
      },
      "source": [
        "Create a data visualization that relates to either your state level research question or your national level reserach question. If one of your questions was answered by the above graphs, you may not use that question. (12 points)"
      ]
    },
    {
      "cell_type": "code",
      "execution_count": 39,
      "metadata": {
        "colab": {
          "base_uri": "https://localhost:8080/",
          "height": 999
        },
        "id": "tb0lz5Aky5At",
        "outputId": "5eeea154-f7d1-4551-f27d-d2f0a88c6b39"
      },
      "outputs": [
        {
          "data": {
            "text/plain": [
              "([0, 1, 2, 3, 4, 5, 6, 7, 8, 9, 10, 11],\n",
              " [Text(0, 0, 'Arizona'),\n",
              "  Text(1, 0, 'California'),\n",
              "  Text(2, 0, 'Colorado'),\n",
              "  Text(3, 0, 'Delaware'),\n",
              "  Text(4, 0, 'District of Columbia'),\n",
              "  Text(5, 0, 'Florida'),\n",
              "  Text(6, 0, 'Georgia'),\n",
              "  Text(7, 0, 'Illinois'),\n",
              "  Text(8, 0, 'Maryland'),\n",
              "  Text(9, 0, 'North Carolina'),\n",
              "  Text(10, 0, 'Texas'),\n",
              "  Text(11, 0, 'Virginia')])"
            ]
          },
          "execution_count": 39,
          "metadata": {},
          "output_type": "execute_result"
        },
        {
          "data": {
            "image/png": "[encoded data removed]",
            "text/plain": [
              "<Figure size 685.25x600 with 1 Axes>"
            ]
          },
          "metadata": {},
          "output_type": "display_data"
        }
      ],
      "source": [
        "year = voters.groupby(['NAME', 'Year'])['registered_voters'].sum().reset_index()\n",
        "\n",
        "sns.catplot(x='NAME', y='registered_voters', hue='Year', data=year, kind='bar', palette='Set2', height=6)\n",
        "plt.title('Voter Registration by State: 2016 vs 2020 Comparison', fontsize=16)\n",
        "plt.xlabel('State', fontsize=14)\n",
        "plt.ylabel('Total Registered Voters', fontsize=14)\n",
        "plt.xticks(rotation=90)"
      ]
    },
    {
      "cell_type": "markdown",
      "metadata": {
        "id": "1d2JJW9lu1zz"
      },
      "source": [
        "##Mapping (14 points as noted)\n",
        "\n",
        "Load in our shape file data from the mapping unit."
      ]
    },
    {
      "cell_type": "code",
      "execution_count": 29,
      "metadata": {
        "colab": {
          "base_uri": "https://localhost:8080/"
        },
        "id": "He5W6DLOFVud",
        "outputId": "4107dd91-675c-4e0a-b90f-ce605065938e"
      },
      "outputs": [
        {
          "name": "stdout",
          "output_type": "stream",
          "text": [
            "Cloning into '325-Datasets'...\n",
            "remote: Enumerating objects: 53, done.\u001b[K\n",
            "remote: Counting objects: 100% (53/53), done.\u001b[K\n",
            "remote: Compressing objects: 100% (48/48), done.\u001b[K\n",
            "remote: Total 53 (delta 13), reused 0 (delta 0), pack-reused 0 (from 0)\u001b[K\n",
            "Receiving objects: 100% (53/53), 7.37 MiB | 10.86 MiB/s, done.\n",
            "Resolving deltas: 100% (13/13), done.\n"
          ]
        }
      ],
      "source": [
        "!git clone https://github.com/SFord87/325-Datasets"
      ]
    },
    {
      "cell_type": "markdown",
      "metadata": {
        "id": "BWGbGfDFvIty"
      },
      "source": [
        "Set our continental US bounding box to us for the next questions. (2 points)"
      ]
    },
    {
      "cell_type": "code",
      "execution_count": 44,
      "metadata": {
        "id": "TJ5plxESFYIG"
      },
      "outputs": [],
      "source": [
        "shapefile = '/content/325-Datasets/cb_2018_us_state_500k.shp'\n",
        "\n",
        "states = gpd.read_file(shapefile)"
      ]
    },
    {
      "cell_type": "markdown",
      "metadata": {
        "id": "aI6Sgm1f2Vks"
      },
      "source": [
        "Create a dataframe that shows the average voter registration per state. (2 points)"
      ]
    },
    {
      "cell_type": "code",
      "execution_count": 42,
      "metadata": {
        "colab": {
          "base_uri": "https://localhost:8080/",
          "height": 426
        },
        "id": "BMiDmar7FZ9i",
        "outputId": "abc60e65-ef4e-4c9a-b9c3-9ee82dea64ed"
      },
      "outputs": [
        {
          "data": {
            "application/vnd.google.colaboratory.intrinsic+json": {
              "summary": "{\n  \"name\": \"avg\",\n  \"rows\": 12,\n  \"fields\": [\n    {\n      \"column\": \"NAME\",\n      \"properties\": {\n        \"dtype\": \"string\",\n        \"num_unique_values\": 12,\n        \"samples\": [\n          \"Texas\",\n          \"North Carolina\",\n          \"Arizona\"\n        ],\n        \"semantic_type\": \"\",\n        \"description\": \"\"\n      }\n    },\n    {\n      \"column\": \"registered_voters\",\n      \"properties\": {\n        \"dtype\": \"number\",\n        \"std\": 43147.29512410796,\n        \"min\": 3166.375,\n        \"max\": 144545.375,\n        \"num_unique_values\": 12,\n        \"samples\": [\n          114610.1,\n          56040.8,\n          35311.5\n        ],\n        \"semantic_type\": \"\",\n        \"description\": \"\"\n      }\n    }\n  ]\n}",
              "type": "dataframe",
              "variable_name": "avg"
            },
            "text/html": [
              "\n",
              "  <div id=\"df-93a24079-67ad-4a1c-9cbc-0388e308ff73\" class=\"colab-df-container\">\n",
              "    <div>\n",
              "<style scoped>\n",
              "    .dataframe tbody tr th:only-of-type {\n",
              "        vertical-align: middle;\n",
              "    }\n",
              "\n",
              "    .dataframe tbody tr th {\n",
              "        vertical-align: top;\n",
              "    }\n",
              "\n",
              "    .dataframe thead th {\n",
              "        text-align: right;\n",
              "    }\n",
              "</style>\n",
              "<table border=\"1\" class=\"dataframe\">\n",
              "  <thead>\n",
              "    <tr style=\"text-align: right;\">\n",
              "      <th></th>\n",
              "      <th>NAME</th>\n",
              "      <th>registered_voters</th>\n",
              "    </tr>\n",
              "  </thead>\n",
              "  <tbody>\n",
              "    <tr>\n",
              "      <th>0</th>\n",
              "      <td>Arizona</td>\n",
              "      <td>35311.500</td>\n",
              "    </tr>\n",
              "    <tr>\n",
              "      <th>1</th>\n",
              "      <td>California</td>\n",
              "      <td>144545.375</td>\n",
              "    </tr>\n",
              "    <tr>\n",
              "      <th>2</th>\n",
              "      <td>Colorado</td>\n",
              "      <td>20527.500</td>\n",
              "    </tr>\n",
              "    <tr>\n",
              "      <th>3</th>\n",
              "      <td>Delaware</td>\n",
              "      <td>3166.375</td>\n",
              "    </tr>\n",
              "    <tr>\n",
              "      <th>4</th>\n",
              "      <td>District of Columbia</td>\n",
              "      <td>3248.400</td>\n",
              "    </tr>\n",
              "    <tr>\n",
              "      <th>5</th>\n",
              "      <td>Florida</td>\n",
              "      <td>65868.125</td>\n",
              "    </tr>\n",
              "    <tr>\n",
              "      <th>6</th>\n",
              "      <td>Georgia</td>\n",
              "      <td>36604.125</td>\n",
              "    </tr>\n",
              "    <tr>\n",
              "      <th>7</th>\n",
              "      <td>Illinois</td>\n",
              "      <td>56840.375</td>\n",
              "    </tr>\n",
              "    <tr>\n",
              "      <th>8</th>\n",
              "      <td>Maryland</td>\n",
              "      <td>22133.500</td>\n",
              "    </tr>\n",
              "    <tr>\n",
              "      <th>9</th>\n",
              "      <td>North Carolina</td>\n",
              "      <td>56040.800</td>\n",
              "    </tr>\n",
              "    <tr>\n",
              "      <th>10</th>\n",
              "      <td>Texas</td>\n",
              "      <td>114610.100</td>\n",
              "    </tr>\n",
              "    <tr>\n",
              "      <th>11</th>\n",
              "      <td>Virginia</td>\n",
              "      <td>24845.200</td>\n",
              "    </tr>\n",
              "  </tbody>\n",
              "</table>\n",
              "</div>\n",
              "    <div class=\"colab-df-buttons\">\n",
              "\n",
              "  <div class=\"colab-df-container\">\n",
              "    <button class=\"colab-df-convert\" onclick=\"convertToInteractive('df-93a24079-67ad-4a1c-9cbc-0388e308ff73')\"\n",
              "            title=\"Convert this dataframe to an interactive table.\"\n",
              "            style=\"display:none;\">\n",
              "\n",
              "  <svg xmlns=\"http://www.w3.org/2000/svg\" height=\"24px\" viewBox=\"0 -960 960 960\">\n",
              "    <path d=\"M120-120v-720h720v720H120Zm60-500h600v-160H180v160Zm220 220h160v-160H400v160Zm0 220h160v-160H400v160ZM180-400h160v-160H180v160Zm440 0h160v-160H620v160ZM180-180h160v-160H180v160Zm440 0h160v-160H620v160Z\"/>\n",
              "  </svg>\n",
              "    </button>\n",
              "\n",
              "  <style>\n",
              "    .colab-df-container {\n",
              "      display:flex;\n",
              "      gap: 12px;\n",
              "    }\n",
              "\n",
              "    .colab-df-convert {\n",
              "      background-color: #E8F0FE;\n",
              "      border: none;\n",
              "      border-radius: 50%;\n",
              "      cursor: pointer;\n",
              "      display: none;\n",
              "      fill: #1967D2;\n",
              "      height: 32px;\n",
              "      padding: 0 0 0 0;\n",
              "      width: 32px;\n",
              "    }\n",
              "\n",
              "    .colab-df-convert:hover {\n",
              "      background-color: #E2EBFA;\n",
              "      box-shadow: 0px 1px 2px rgba(60, 64, 67, 0.3), 0px 1px 3px 1px rgba(60, 64, 67, 0.15);\n",
              "      fill: #174EA6;\n",
              "    }\n",
              "\n",
              "    .colab-df-buttons div {\n",
              "      margin-bottom: 4px;\n",
              "    }\n",
              "\n",
              "    [theme=dark] .colab-df-convert {\n",
              "      background-color: #3B4455;\n",
              "      fill: #D2E3FC;\n",
              "    }\n",
              "\n",
              "    [theme=dark] .colab-df-convert:hover {\n",
              "      background-color: #434B5C;\n",
              "      box-shadow: 0px 1px 3px 1px rgba(0, 0, 0, 0.15);\n",
              "      filter: drop-shadow(0px 1px 2px rgba(0, 0, 0, 0.3));\n",
              "      fill: #FFFFFF;\n",
              "    }\n",
              "  </style>\n",
              "\n",
              "    <script>\n",
              "      const buttonEl =\n",
              "        document.querySelector('#df-93a24079-67ad-4a1c-9cbc-0388e308ff73 button.colab-df-convert');\n",
              "      buttonEl.style.display =\n",
              "        google.colab.kernel.accessAllowed ? 'block' : 'none';\n",
              "\n",
              "      async function convertToInteractive(key) {\n",
              "        const element = document.querySelector('#df-93a24079-67ad-4a1c-9cbc-0388e308ff73');\n",
              "        const dataTable =\n",
              "          await google.colab.kernel.invokeFunction('convertToInteractive',\n",
              "                                                    [key], {});\n",
              "        if (!dataTable) return;\n",
              "\n",
              "        const docLinkHtml = 'Like what you see? Visit the ' +\n",
              "          '<a target=\"_blank\" href=https://colab.research.google.com/notebooks/data_table.ipynb>data table notebook</a>'\n",
              "          + ' to learn more about interactive tables.';\n",
              "        element.innerHTML = '';\n",
              "        dataTable['output_type'] = 'display_data';\n",
              "        await google.colab.output.renderOutput(dataTable, element);\n",
              "        const docLink = document.createElement('div');\n",
              "        docLink.innerHTML = docLinkHtml;\n",
              "        element.appendChild(docLink);\n",
              "      }\n",
              "    </script>\n",
              "  </div>\n",
              "\n",
              "\n",
              "<div id=\"df-8a7dd45a-a274-4cd5-89b5-82cd899a0db2\">\n",
              "  <button class=\"colab-df-quickchart\" onclick=\"quickchart('df-8a7dd45a-a274-4cd5-89b5-82cd899a0db2')\"\n",
              "            title=\"Suggest charts\"\n",
              "            style=\"display:none;\">\n",
              "\n",
              "<svg xmlns=\"http://www.w3.org/2000/svg\" height=\"24px\"viewBox=\"0 0 24 24\"\n",
              "     width=\"24px\">\n",
              "    <g>\n",
              "        <path d=\"M19 3H5c-1.1 0-2 .9-2 2v14c0 1.1.9 2 2 2h14c1.1 0 2-.9 2-2V5c0-1.1-.9-2-2-2zM9 17H7v-7h2v7zm4 0h-2V7h2v10zm4 0h-2v-4h2v4z\"/>\n",
              "    </g>\n",
              "</svg>\n",
              "  </button>\n",
              "\n",
              "<style>\n",
              "  .colab-df-quickchart {\n",
              "      --bg-color: #E8F0FE;\n",
              "      --fill-color: #1967D2;\n",
              "      --hover-bg-color: #E2EBFA;\n",
              "      --hover-fill-color: #174EA6;\n",
              "      --disabled-fill-color: #AAA;\n",
              "      --disabled-bg-color: #DDD;\n",
              "  }\n",
              "\n",
              "  [theme=dark] .colab-df-quickchart {\n",
              "      --bg-color: #3B4455;\n",
              "      --fill-color: #D2E3FC;\n",
              "      --hover-bg-color: #434B5C;\n",
              "      --hover-fill-color: #FFFFFF;\n",
              "      --disabled-bg-color: #3B4455;\n",
              "      --disabled-fill-color: #666;\n",
              "  }\n",
              "\n",
              "  .colab-df-quickchart {\n",
              "    background-color: var(--bg-color);\n",
              "    border: none;\n",
              "    border-radius: 50%;\n",
              "    cursor: pointer;\n",
              "    display: none;\n",
              "    fill: var(--fill-color);\n",
              "    height: 32px;\n",
              "    padding: 0;\n",
              "    width: 32px;\n",
              "  }\n",
              "\n",
              "  .colab-df-quickchart:hover {\n",
              "    background-color: var(--hover-bg-color);\n",
              "    box-shadow: 0 1px 2px rgba(60, 64, 67, 0.3), 0 1px 3px 1px rgba(60, 64, 67, 0.15);\n",
              "    fill: var(--button-hover-fill-color);\n",
              "  }\n",
              "\n",
              "  .colab-df-quickchart-complete:disabled,\n",
              "  .colab-df-quickchart-complete:disabled:hover {\n",
              "    background-color: var(--disabled-bg-color);\n",
              "    fill: var(--disabled-fill-color);\n",
              "    box-shadow: none;\n",
              "  }\n",
              "\n",
              "  .colab-df-spinner {\n",
              "    border: 2px solid var(--fill-color);\n",
              "    border-color: transparent;\n",
              "    border-bottom-color: var(--fill-color);\n",
              "    animation:\n",
              "      spin 1s steps(1) infinite;\n",
              "  }\n",
              "\n",
              "  @keyframes spin {\n",
              "    0% {\n",
              "      border-color: transparent;\n",
              "      border-bottom-color: var(--fill-color);\n",
              "      border-left-color: var(--fill-color);\n",
              "    }\n",
              "    20% {\n",
              "      border-color: transparent;\n",
              "      border-left-color: var(--fill-color);\n",
              "      border-top-color: var(--fill-color);\n",
              "    }\n",
              "    30% {\n",
              "      border-color: transparent;\n",
              "      border-left-color: var(--fill-color);\n",
              "      border-top-color: var(--fill-color);\n",
              "      border-right-color: var(--fill-color);\n",
              "    }\n",
              "    40% {\n",
              "      border-color: transparent;\n",
              "      border-right-color: var(--fill-color);\n",
              "      border-top-color: var(--fill-color);\n",
              "    }\n",
              "    60% {\n",
              "      border-color: transparent;\n",
              "      border-right-color: var(--fill-color);\n",
              "    }\n",
              "    80% {\n",
              "      border-color: transparent;\n",
              "      border-right-color: var(--fill-color);\n",
              "      border-bottom-color: var(--fill-color);\n",
              "    }\n",
              "    90% {\n",
              "      border-color: transparent;\n",
              "      border-bottom-color: var(--fill-color);\n",
              "    }\n",
              "  }\n",
              "</style>\n",
              "\n",
              "  <script>\n",
              "    async function quickchart(key) {\n",
              "      const quickchartButtonEl =\n",
              "        document.querySelector('#' + key + ' button');\n",
              "      quickchartButtonEl.disabled = true;  // To prevent multiple clicks.\n",
              "      quickchartButtonEl.classList.add('colab-df-spinner');\n",
              "      try {\n",
              "        const charts = await google.colab.kernel.invokeFunction(\n",
              "            'suggestCharts', [key], {});\n",
              "      } catch (error) {\n",
              "        console.error('Error during call to suggestCharts:', error);\n",
              "      }\n",
              "      quickchartButtonEl.classList.remove('colab-df-spinner');\n",
              "      quickchartButtonEl.classList.add('colab-df-quickchart-complete');\n",
              "    }\n",
              "    (() => {\n",
              "      let quickchartButtonEl =\n",
              "        document.querySelector('#df-8a7dd45a-a274-4cd5-89b5-82cd899a0db2 button');\n",
              "      quickchartButtonEl.style.display =\n",
              "        google.colab.kernel.accessAllowed ? 'block' : 'none';\n",
              "    })();\n",
              "  </script>\n",
              "</div>\n",
              "\n",
              "  <div id=\"id_d95ccbda-daf8-4838-bccf-1582c28cd526\">\n",
              "    <style>\n",
              "      .colab-df-generate {\n",
              "        background-color: #E8F0FE;\n",
              "        border: none;\n",
              "        border-radius: 50%;\n",
              "        cursor: pointer;\n",
              "        display: none;\n",
              "        fill: #1967D2;\n",
              "        height: 32px;\n",
              "        padding: 0 0 0 0;\n",
              "        width: 32px;\n",
              "      }\n",
              "\n",
              "      .colab-df-generate:hover {\n",
              "        background-color: #E2EBFA;\n",
              "        box-shadow: 0px 1px 2px rgba(60, 64, 67, 0.3), 0px 1px 3px 1px rgba(60, 64, 67, 0.15);\n",
              "        fill: #174EA6;\n",
              "      }\n",
              "\n",
              "      [theme=dark] .colab-df-generate {\n",
              "        background-color: #3B4455;\n",
              "        fill: #D2E3FC;\n",
              "      }\n",
              "\n",
              "      [theme=dark] .colab-df-generate:hover {\n",
              "        background-color: #434B5C;\n",
              "        box-shadow: 0px 1px 3px 1px rgba(0, 0, 0, 0.15);\n",
              "        filter: drop-shadow(0px 1px 2px rgba(0, 0, 0, 0.3));\n",
              "        fill: #FFFFFF;\n",
              "      }\n",
              "    </style>\n",
              "    <button class=\"colab-df-generate\" onclick=\"generateWithVariable('avg')\"\n",
              "            title=\"Generate code using this dataframe.\"\n",
              "            style=\"display:none;\">\n",
              "\n",
              "  <svg xmlns=\"http://www.w3.org/2000/svg\" height=\"24px\"viewBox=\"0 0 24 24\"\n",
              "       width=\"24px\">\n",
              "    <path d=\"M7,19H8.4L18.45,9,17,7.55,7,17.6ZM5,21V16.75L18.45,3.32a2,2,0,0,1,2.83,0l1.4,1.43a1.91,1.91,0,0,1,.58,1.4,1.91,1.91,0,0,1-.58,1.4L9.25,21ZM18.45,9,17,7.55Zm-12,3A5.31,5.31,0,0,0,4.9,8.1,5.31,5.31,0,0,0,1,6.5,5.31,5.31,0,0,0,4.9,4.9,5.31,5.31,0,0,0,6.5,1,5.31,5.31,0,0,0,8.1,4.9,5.31,5.31,0,0,0,12,6.5,5.46,5.46,0,0,0,6.5,12Z\"/>\n",
              "  </svg>\n",
              "    </button>\n",
              "    <script>\n",
              "      (() => {\n",
              "      const buttonEl =\n",
              "        document.querySelector('#id_d95ccbda-daf8-4838-bccf-1582c28cd526 button.colab-df-generate');\n",
              "      buttonEl.style.display =\n",
              "        google.colab.kernel.accessAllowed ? 'block' : 'none';\n",
              "\n",
              "      buttonEl.onclick = () => {\n",
              "        google.colab.notebook.generateWithVariable('avg');\n",
              "      }\n",
              "      })();\n",
              "    </script>\n",
              "  </div>\n",
              "\n",
              "    </div>\n",
              "  </div>\n"
            ],
            "text/plain": [
              "                    NAME  registered_voters\n",
              "0                Arizona          35311.500\n",
              "1             California         144545.375\n",
              "2               Colorado          20527.500\n",
              "3               Delaware           3166.375\n",
              "4   District of Columbia           3248.400\n",
              "5                Florida          65868.125\n",
              "6                Georgia          36604.125\n",
              "7               Illinois          56840.375\n",
              "8               Maryland          22133.500\n",
              "9         North Carolina          56040.800\n",
              "10                 Texas         114610.100\n",
              "11              Virginia          24845.200"
            ]
          },
          "execution_count": 42,
          "metadata": {},
          "output_type": "execute_result"
        }
      ],
      "source": [
        "avg = voters.groupby('NAME')['registered_voters'].mean().reset_index()\n",
        "avg"
      ]
    },
    {
      "cell_type": "markdown",
      "metadata": {
        "id": "viifmX-n2a03"
      },
      "source": [
        "Merge the above dataframe results with the mapping data. You will want to use `inner` for the `how` argument. (2 points)"
      ]
    },
    {
      "cell_type": "code",
      "execution_count": 45,
      "metadata": {
        "id": "zCEWmPsHFdff"
      },
      "outputs": [],
      "source": [
        "data = states.merge(avg, on='NAME', how='inner')"
      ]
    },
    {
      "cell_type": "markdown",
      "metadata": {
        "id": "GcOKuSVb2fHc"
      },
      "source": [
        "Make a map featuring the following\n",
        "\n",
        "*  a figure size of 25, 15 (1 point)\n",
        "*  A boundary map of the continental US data, with a black linewidth of .25 (2 points)\n",
        "*  The states that we have the voter registration information for highlighted in a color map of your choice. (3 points)\n",
        "*  A legend and a title. (2 points)\n",
        "\n",
        "*Bonus point: add the state abbrevations and average number of registered voters to the map* (1 point)\n",
        "\n",
        "(8 points total)"
      ]
    },
    {
      "cell_type": "code",
      "execution_count": 52,
      "metadata": {
        "colab": {
          "base_uri": "https://localhost:8080/",
          "height": 1000
        },
        "id": "vNFKjcVkFfsA",
        "outputId": "9e98ed53-9f4f-4c5d-c74f-c5b147cb1046"
      },
      "outputs": [
        {
          "data": {
            "text/html": [
              "<div>\n",
              "<style scoped>\n",
              "    .dataframe tbody tr th:only-of-type {\n",
              "        vertical-align: middle;\n",
              "    }\n",
              "\n",
              "    .dataframe tbody tr th {\n",
              "        vertical-align: top;\n",
              "    }\n",
              "\n",
              "    .dataframe thead th {\n",
              "        text-align: right;\n",
              "    }\n",
              "</style>\n",
              "<table border=\"1\" class=\"dataframe\">\n",
              "  <thead>\n",
              "    <tr style=\"text-align: right;\">\n",
              "      <th></th>\n",
              "      <th>0</th>\n",
              "    </tr>\n",
              "  </thead>\n",
              "  <tbody>\n",
              "    <tr>\n",
              "      <th>0</th>\n",
              "      <td>Annotation(-79.3724, 35.5415, 'North Carolina')</td>\n",
              "    </tr>\n",
              "    <tr>\n",
              "      <th>1</th>\n",
              "      <td>Annotation(-78.8123, 37.515, 'Virginia')</td>\n",
              "    </tr>\n",
              "    <tr>\n",
              "      <th>2</th>\n",
              "      <td>Annotation(-82.4975, 28.6284, 'Florida')</td>\n",
              "    </tr>\n",
              "    <tr>\n",
              "      <th>3</th>\n",
              "      <td>Annotation(-99.3507, 31.4845, 'Texas')</td>\n",
              "    </tr>\n",
              "    <tr>\n",
              "      <th>4</th>\n",
              "      <td>Annotation(-119.611, 37.2461, 'California')</td>\n",
              "    </tr>\n",
              "    <tr>\n",
              "      <th>5</th>\n",
              "      <td>Annotation(-83.4463, 32.6492, 'Georgia')</td>\n",
              "    </tr>\n",
              "    <tr>\n",
              "      <th>6</th>\n",
              "      <td>Annotation(-105.548, 38.9985, 'Colorado')</td>\n",
              "    </tr>\n",
              "    <tr>\n",
              "      <th>7</th>\n",
              "      <td>Annotation(-89.1984, 40.065, 'Illinois')</td>\n",
              "    </tr>\n",
              "    <tr>\n",
              "      <th>8</th>\n",
              "      <td>Annotation(-111.664, 34.2931, 'Arizona')</td>\n",
              "    </tr>\n",
              "    <tr>\n",
              "      <th>9</th>\n",
              "      <td>Annotation(-77.0163, 38.9047, 'District of Col...</td>\n",
              "    </tr>\n",
              "    <tr>\n",
              "      <th>10</th>\n",
              "      <td>Annotation(-76.7725, 39.0369, 'Maryland')</td>\n",
              "    </tr>\n",
              "    <tr>\n",
              "      <th>11</th>\n",
              "      <td>Annotation(-75.5004, 38.987, 'Delaware')</td>\n",
              "    </tr>\n",
              "  </tbody>\n",
              "</table>\n",
              "</div><br><label><b>dtype:</b> object</label>"
            ],
            "text/plain": [
              "0       Annotation(-79.3724, 35.5415, 'North Carolina')\n",
              "1              Annotation(-78.8123, 37.515, 'Virginia')\n",
              "2              Annotation(-82.4975, 28.6284, 'Florida')\n",
              "3                Annotation(-99.3507, 31.4845, 'Texas')\n",
              "4           Annotation(-119.611, 37.2461, 'California')\n",
              "5              Annotation(-83.4463, 32.6492, 'Georgia')\n",
              "6             Annotation(-105.548, 38.9985, 'Colorado')\n",
              "7              Annotation(-89.1984, 40.065, 'Illinois')\n",
              "8              Annotation(-111.664, 34.2931, 'Arizona')\n",
              "9     Annotation(-77.0163, 38.9047, 'District of Col...\n",
              "10            Annotation(-76.7725, 39.0369, 'Maryland')\n",
              "11             Annotation(-75.5004, 38.987, 'Delaware')\n",
              "dtype: object"
            ]
          },
          "execution_count": 52,
          "metadata": {},
          "output_type": "execute_result"
        },
        {
          "data": {
            "image/png": "[encoded data removed]",
            "text/plain": [
              "<Figure size 2500x1500 with 2 Axes>"
            ]
          },
          "metadata": {},
          "output_type": "display_data"
        }
      ],
      "source": [
        "minx, miny, maxx, maxy = -125, 24.396308, -66.93457, 49.384358\n",
        "bbox = states.cx[minx:maxx, miny:maxy]\n",
        "\n",
        "\n",
        "fig=plt.figure(1,figsize=(25,15))\n",
        "ax=fig.add_subplot()\n",
        "data.plot(column=\"registered_voters\",ax=ax, legend=True, edgecolor=\"black\", linewidth=.25,cmap=\"Purples\",\n",
        "            legend_kwds={\"label\": \"voter registration\",\n",
        "            \"orientation\": \"horizontal\"})\n",
        "\n",
        "data.apply(lambda x: ax.annotate(text=x.NAME,\n",
        "    xy=(x.geometry.centroid.x, x.geometry.centroid.y),ha=\"center\",fontsize=8),axis=1)"
      ]
    },
    {
      "cell_type": "markdown",
      "metadata": {
        "id": "iHRHv-t14VI-"
      },
      "source": [
        "##Conclusion  (15 points)\n",
        "\n",
        "Write a conclusion section that includes\n",
        "* Insights: the insights/outcomes of your notebook (5 points)\n",
        "* Suggestions: Any suggestions or ideas you could offer your client (5 point)\n",
        "* Possible next steps: At least one step that you would take if continuing to work with this project (5 points)\n",
        "\n",
        "\n",
        "Each section should be at least 3-4 complete sentenes.\n"
      ]
    },
    {
      "cell_type": "markdown",
      "metadata": {
        "id": "So6KpNs16dkQ"
      },
      "source": [
        "\n",
        "\n",
        "---\n",
        "\n",
        "\n",
        "Analysis and visualizations in this notebook hold value by assessing larger voter registration/participation trends in these states. For instance, there was a common trend of February being the highest month for voter registration. While a simple analysis like this can show interesting trends, a more robust analysis could be done with improvements to the data set. Additional information like state population would help normalize the data so that states like California and Texas don’t get over-represented because of their population. The data set also ends right amid COVID-19, so further studies would be helpful to see if COVID-19 policies have long-lasting effects on registration efforts.\n"
      ]
    }
  ],
  "metadata": {
    "colab": {
      "provenance": []
    },
    "kernelspec": {
      "display_name": "Python 3",
      "name": "python3"
    },
    "language_info": {
      "name": "python"
    }
  },
  "nbformat": 4,
  "nbformat_minor": 0
}
